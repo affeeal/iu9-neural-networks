{
 "cells": [
  {
   "cell_type": "code",
   "execution_count": 8,
   "id": "f4c4cc2a-83a7-4820-bdc5-4154dcb0f6f7",
   "metadata": {},
   "outputs": [],
   "source": [
    "import datetime\n",
    "import torch\n",
    "import torch.nn as nn\n",
    "import torch.optim as optim\n",
    "import torch.nn.functional as functional\n",
    "\n",
    "from torchvision import datasets, transforms"
   ]
  },
  {
   "cell_type": "code",
   "execution_count": 9,
   "id": "3e992367-7d32-4236-ae39-2889f5346a7e",
   "metadata": {},
   "outputs": [],
   "source": [
    "DATA_PATH = 'data/'\n",
    "\n",
    "def training_loop(n_epochs, optimizer, model, loss_fn, train_loader):\n",
    "    for epoch in range(1, n_epochs + 1):\n",
    "        loss_train = 0.0\n",
    "        for imgs, labels in train_loader:\n",
    "            imgs = imgs.to(device=device)\n",
    "            labels = labels.to(device=device)\n",
    "            outputs = model(imgs)\n",
    "            loss = loss_fn(outputs, labels)\n",
    "\n",
    "            optimizer.zero_grad()\n",
    "            loss.backward()\n",
    "            optimizer.step()\n",
    "\n",
    "            loss_train += loss.item()\n",
    "\n",
    "        print('{} Epoch {}, Training loss {}'.format(\n",
    "            datetime.datetime.now(), epoch,\n",
    "            loss_train / len(train_loader)))\n",
    "\n",
    "\n",
    "def accuracy(model, train_loader, test_loader):\n",
    "    accdict = {}\n",
    "    for name, loader in [(\"train\", train_loader), (\"test\", test_loader)]:\n",
    "        correct = 0\n",
    "        total = 0\n",
    "\n",
    "        with torch.no_grad():\n",
    "            for imgs, labels in loader:\n",
    "                imgs = imgs.to(device=device)\n",
    "                labels = labels.to(device=device)\n",
    "                outputs = model(imgs)\n",
    "                _, predicted = torch.max(outputs, dim=1)\n",
    "                total += labels.shape[0]\n",
    "                correct += int((predicted == labels).sum())\n",
    "\n",
    "        print(\"Accuracy {}: {:.3f}\".format(name, correct / total))\n",
    "        accdict[name] = correct / total\n",
    "    return accdict"
   ]
  },
  {
   "cell_type": "code",
   "execution_count": 10,
   "id": "adbbc802-17e3-475b-ba47-c683604db411",
   "metadata": {},
   "outputs": [],
   "source": [
    "class LeNet(nn.Module):\n",
    "    def __init__(self):\n",
    "        super().__init__()\n",
    "        self.conv1 = nn.Conv2d(1, 6, kernel_size=5, padding=2)\n",
    "        self.conv2 = nn.Conv2d(6, 16, kernel_size=5)\n",
    "        self.fc1 = nn.Linear(16 * 5 * 5, 120)\n",
    "        self.fc2 = nn.Linear(120, 84)\n",
    "        self.fc3 = nn.Linear(84, 10)\n",
    "\n",
    "    def forward(self, x):\n",
    "        out = functional.max_pool2d(torch.relu(self.conv1(x)), 2)\n",
    "        out = functional.max_pool2d(torch.relu(self.conv2(out)), 2)\n",
    "        out = out.view(-1, 16 * 5 * 5)\n",
    "        out = torch.tanh(self.fc1(out))\n",
    "        out = torch.tanh(self.fc2(out))\n",
    "        out = self.fc3(out)\n",
    "        return out"
   ]
  },
  {
   "cell_type": "markdown",
   "id": "5c7a7f95-555e-4155-a05e-9c3c0f9b2040",
   "metadata": {},
   "source": [
    "| Optimizer | Epochs | Learning rate | Accuracy (test) |\n",
    "| --------  | ------ | ------------- | --------------- |\n",
    "| SGD       | 20     | 1e-2          | 0.981           |\n",
    "| Adadelta  | 20     | 1e-2          | 0.986           |  \n",
    "| NAG       | 20     | 1e-2          | 0.990           |\n",
    "| Adam      | 20     | 1e-3          | 0.990           |"
   ]
  },
  {
   "cell_type": "code",
   "execution_count": 11,
   "id": "b445588b-6df5-45fa-97cd-6535f440d9c1",
   "metadata": {},
   "outputs": [
    {
     "name": "stdout",
     "output_type": "stream",
     "text": [
      "Training on device cuda.\n"
     ]
    }
   ],
   "source": [
    "device = (torch.device('cuda') if torch.cuda.is_available()\n",
    "              else torch.device('cpu'))\n",
    "print(f\"Training on device {device}.\")"
   ]
  },
  {
   "cell_type": "code",
   "execution_count": null,
   "id": "6468c201-1478-40b6-8dbc-66173921d5d5",
   "metadata": {},
   "outputs": [
    {
     "name": "stdout",
     "output_type": "stream",
     "text": [
      "Optimization SGD.\n",
      "2024-12-26 03:50:42.394476 Epoch 1, Training loss 2.1719708490371703\n",
      "2024-12-26 03:50:48.057402 Epoch 2, Training loss 0.7592376336455345\n",
      "2024-12-26 03:50:53.894173 Epoch 3, Training loss 0.36593637640277543\n",
      "2024-12-26 03:50:59.430001 Epoch 4, Training loss 0.2585047575707237\n",
      "2024-12-26 03:51:04.928767 Epoch 5, Training loss 0.2002925844738881\n",
      "2024-12-26 03:51:10.492241 Epoch 6, Training loss 0.16417810159424942\n",
      "2024-12-26 03:51:16.042770 Epoch 7, Training loss 0.13946343498925368\n",
      "2024-12-26 03:51:21.731415 Epoch 8, Training loss 0.12224396384942035\n",
      "2024-12-26 03:51:27.303890 Epoch 9, Training loss 0.10947794433372716\n",
      "2024-12-26 03:51:32.940869 Epoch 10, Training loss 0.09950001397480568\n",
      "2024-12-26 03:51:38.509799 Epoch 11, Training loss 0.09121856225344042\n",
      "2024-12-26 03:51:44.200803 Epoch 12, Training loss 0.08452501201070844\n"
     ]
    }
   ],
   "source": [
    "mnist_train = datasets.MNIST(\n",
    "    DATA_PATH, train=True, download=True, transform=transforms.ToTensor())\n",
    "mnist_test = datasets.MNIST(\n",
    "    DATA_PATH, train=False, download=True, transform=transforms.ToTensor())\n",
    "\n",
    "train_loader = torch.utils.data.DataLoader(\n",
    "    mnist_train, batch_size=100, shuffle=True)\n",
    "test_loader = torch.utils.data.DataLoader(\n",
    "    mnist_test, batch_size=100, shuffle=True)\n",
    "\n",
    "model = LeNet().to(device=device)\n",
    "loss_fn = nn.CrossEntropyLoss()\n",
    "\n",
    "for name, optimizer in [\n",
    "    ('SGD', optim.SGD(model.parameters(), lr=1e-2)),\n",
    "    ('Adadelta', optim.Adadelta(model.parameters(), lr=1e-2)),\n",
    "    ('NAG', optim.SGD(model.parameters(), lr=1e-2, momentum=0.9, nesterov=True)),\n",
    "        ('Adam', optim.Adam(model.parameters(), lr=1e-3))]:\n",
    "    print(f'Optimization {name}.')\n",
    "    training_loop(n_epochs=20, optimizer=optimizer, model=model,\n",
    "                  loss_fn=loss_fn, train_loader=train_loader)\n",
    "    accuracy(model, train_loader, test_loader)"
   ]
  },
  {
   "cell_type": "code",
   "execution_count": null,
   "id": "a731ff82-a09d-421c-8168-7dc5b56ef599",
   "metadata": {},
   "outputs": [],
   "source": []
  }
 ],
 "metadata": {
  "kernelspec": {
   "display_name": "nnhw5",
   "language": "python",
   "name": "nnhw5"
  },
  "language_info": {
   "codemirror_mode": {
    "name": "ipython",
    "version": 3
   },
   "file_extension": ".py",
   "mimetype": "text/x-python",
   "name": "python",
   "nbconvert_exporter": "python",
   "pygments_lexer": "ipython3",
   "version": "3.12.3"
  }
 },
 "nbformat": 4,
 "nbformat_minor": 5
}
