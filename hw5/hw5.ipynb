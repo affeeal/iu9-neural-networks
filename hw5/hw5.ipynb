{
 "cells": [
  {
   "cell_type": "code",
   "execution_count": null,
   "id": "c42b6997-f62e-42ca-90ad-4c9cf8ed7649",
   "metadata": {},
   "outputs": [],
   "source": [
    "import datetime\n",
    "import torch\n",
    "import torch.nn as nn\n",
    "import torch.optim as optim\n",
    "import torch.nn.functional as functional\n",
    "\n",
    "from torchvision import datasets, transforms"
   ]
  },
  {
   "cell_type": "code",
   "execution_count": null,
   "id": "6f3e1570-fcb7-47e4-923b-0e51330060bb",
   "metadata": {},
   "outputs": [],
   "source": [
    "DATA_PATH = '../datasets/'\n",
    "BATCH_SIZE = 100\n",
    "MOMENTUM = 0.9\n",
    "EPOCHS = 20"
   ]
  },
  {
   "cell_type": "code",
   "execution_count": null,
   "id": "87b99753-cc7a-4794-9c32-a2b25ad2ca5c",
   "metadata": {},
   "outputs": [],
   "source": [
    "def train(n_epochs, optimizer, model, loss_fn, train_loader):\n",
    "    for epoch in range(1, n_epochs + 1):\n",
    "        loss_train = 0.0\n",
    "        for imgs, labels in train_loader:\n",
    "            imgs = imgs.to(device=device)\n",
    "            labels = labels.to(device=device)\n",
    "            outputs = model(imgs)\n",
    "            loss = loss_fn(outputs, labels)\n",
    "\n",
    "            optimizer.zero_grad()\n",
    "            loss.backward()\n",
    "            optimizer.step()\n",
    "\n",
    "            loss_train += loss.item()\n",
    "\n",
    "        print('{} Epoch {}, Training loss {}'.format(\n",
    "            datetime.datetime.now(), epoch,\n",
    "            loss_train / len(train_loader)))\n",
    "\n",
    "\n",
    "def calculate_accuracy(model, train_loader, test_loader):\n",
    "    accdict = {}\n",
    "    for name, loader in [(\"train\", train_loader), (\"test\", test_loader)]:\n",
    "        correct = 0\n",
    "        total = 0\n",
    "\n",
    "        with torch.no_grad():\n",
    "            for imgs, labels in loader:\n",
    "                imgs = imgs.to(device=device)\n",
    "                labels = labels.to(device=device)\n",
    "                outputs = model(imgs)\n",
    "                _, predicted = torch.max(outputs, dim=1)\n",
    "                total += labels.shape[0]\n",
    "                correct += int((predicted == labels).sum())\n",
    "\n",
    "        print(\"Accuracy {}: {:.3f}\".format(name, correct / total))\n",
    "        accdict[name] = correct / total\n",
    "    return accdict"
   ]
  },
  {
   "cell_type": "code",
   "execution_count": null,
   "id": "3123d610-6e74-49e0-8759-cf68598862a2",
   "metadata": {},
   "outputs": [],
   "source": [
    "loss_fn = nn.CrossEntropyLoss()\n",
    "device = (torch.device('cuda') if torch.cuda.is_available()\n",
    "          else torch.device('cpu'))\n",
    "device"
   ]
  },
  {
   "cell_type": "code",
   "execution_count": null,
   "id": "477ac5f1-6d7e-4723-94bd-f10d366ce4f3",
   "metadata": {},
   "outputs": [],
   "source": [
    "mnist_train = datasets.MNIST(\n",
    "    DATA_PATH, train=True, download=True, transform=transforms.ToTensor())\n",
    "mnist_test = datasets.MNIST(\n",
    "    DATA_PATH, train=False, download=True, transform=transforms.ToTensor())"
   ]
  },
  {
   "cell_type": "code",
   "execution_count": null,
   "id": "9574c794-5c54-48f3-826a-b5a9d0c78133",
   "metadata": {},
   "outputs": [],
   "source": [
    "cifar10_train = datasets.CIFAR10(\n",
    "    DATA_PATH, train=True, download=True, transform=transforms.ToTensor())\n",
    "cifar10_test = datasets.CIFAR10(\n",
    "    DATA_PATH, train=False, download=True, transform=transforms.ToTensor())"
   ]
  },
  {
   "cell_type": "markdown",
   "id": "e7265d53-e230-4658-98c7-f8102699db74",
   "metadata": {},
   "source": [
    "### LeNet, MNIST"
   ]
  },
  {
   "cell_type": "code",
   "execution_count": null,
   "id": "f890eed1-97c2-4cb2-9d9a-a456dc54eacb",
   "metadata": {},
   "outputs": [],
   "source": [
    "class LeNet(nn.Module):\n",
    "    def __init__(self):\n",
    "        super().__init__()\n",
    "        self.conv1 = nn.Conv2d(1, 6, kernel_size=5, padding=2)\n",
    "        self.conv2 = nn.Conv2d(6, 16, kernel_size=5)\n",
    "        self.fc1 = nn.Linear(16 * 5 * 5, 120)\n",
    "        self.fc2 = nn.Linear(120, 84)\n",
    "        self.fc3 = nn.Linear(84, 10)\n",
    "\n",
    "    def forward(self, x):\n",
    "        out = functional.max_pool2d(torch.relu(self.conv1(x)), 2)\n",
    "        out = functional.max_pool2d(torch.relu(self.conv2(out)), 2)\n",
    "        out = out.view(-1, 16 * 5 * 5)\n",
    "        out = torch.tanh(self.fc1(out))\n",
    "        out = torch.tanh(self.fc2(out))\n",
    "        out = self.fc3(out)\n",
    "        return out"
   ]
  },
  {
   "cell_type": "code",
   "execution_count": null,
   "id": "1562a998-a904-4f71-96f4-1e8f6b02ac4e",
   "metadata": {},
   "outputs": [],
   "source": [
    "model = LeNet().to(device=device)\n",
    "train_loader = torch.utils.data.DataLoader(\n",
    "    mnist_train, batch_size=BATCH_SIZE, shuffle=True)\n",
    "test_loader = torch.utils.data.DataLoader(\n",
    "    mnist_test, batch_size=BATCH_SIZE, shuffle=True)"
   ]
  },
  {
   "cell_type": "markdown",
   "id": "e5a20f25-b614-4ecc-845c-3869ac27c88a",
   "metadata": {},
   "source": [
    "**SGD**"
   ]
  },
  {
   "cell_type": "code",
   "execution_count": null,
   "id": "6c9ce80d-f78e-4806-90bb-c593d7c6e87b",
   "metadata": {},
   "outputs": [],
   "source": [
    "optimizer = optim.SGD(model.parameters(), lr=1e-2)\n",
    "train(n_epochs=EPOCHS, optimizer=optimizer, model=model,\n",
    "      loss_fn=loss_fn, train_loader=train_loader)\n",
    "calculate_accuracy(model, train_loader, test_loader)"
   ]
  },
  {
   "cell_type": "markdown",
   "id": "d3fc22a7-409b-44ce-9edd-b8dfa21d3355",
   "metadata": {},
   "source": [
    "**Adadelta**"
   ]
  },
  {
   "cell_type": "code",
   "execution_count": null,
   "id": "b5a7dfbe-ceb5-428a-8d08-5b78ef677e18",
   "metadata": {},
   "outputs": [],
   "source": [
    "optimizer = optim.Adadelta(model.parameters(), lr=1e-2)\n",
    "train(n_epochs=EPOCHS, optimizer=optimizer, model=model,\n",
    "      loss_fn=loss_fn, train_loader=train_loader)\n",
    "calculate_accuracy(model, train_loader, test_loader)"
   ]
  },
  {
   "cell_type": "markdown",
   "id": "d1ce4ffb-fd3c-4cf7-9afa-65e322fa2b34",
   "metadata": {},
   "source": [
    "**NAG**"
   ]
  },
  {
   "cell_type": "code",
   "execution_count": null,
   "id": "9b067ee4-a6bf-4cd6-b0b7-78a53ddb341f",
   "metadata": {},
   "outputs": [],
   "source": [
    "optimizer = optim.SGD(model.parameters(), lr=1e-2,\n",
    "                      momentum=MOMENTUM, nesterov=True)\n",
    "train(n_epochs=EPOCHS, optimizer=optimizer, model=model,\n",
    "      loss_fn=loss_fn, train_loader=train_loader)\n",
    "calculate_accuracy(model, train_loader, test_loader)"
   ]
  },
  {
   "cell_type": "markdown",
   "id": "e61c60d7-8810-4084-91df-dade3529e222",
   "metadata": {},
   "source": [
    "**Adam**"
   ]
  },
  {
   "cell_type": "code",
   "execution_count": null,
   "id": "f7383cde-1617-4812-9d19-69ecec765afd",
   "metadata": {},
   "outputs": [],
   "source": [
    "optimizer = optim.Adam(model.parameters(), lr=1e-3)\n",
    "train(n_epochs=EPOCHS, optimizer=optimizer, model=model,\n",
    "      loss_fn=loss_fn, train_loader=train_loader)\n",
    "calculate_accuracy(model, train_loader, test_loader)"
   ]
  },
  {
   "cell_type": "markdown",
   "id": "5c7a7f95-555e-4155-a05e-9c3c0f9b2040",
   "metadata": {},
   "source": [
    "| Optimizer | Epochs | Learning rate | Accuracy (test) |\n",
    "| --------  | ------ | ------------- | --------------- |\n",
    "| SGD       | 20     | 1e-2          | 0.981           |\n",
    "| Adadelta  | 20     | 1e-2          | 0.986           |  \n",
    "| NAG       | 20     | 1e-2          | 0.990           |\n",
    "| Adam      | 20     | 1e-3          | 0.990           |"
   ]
  },
  {
   "cell_type": "markdown",
   "id": "1fd1abdb-d7b9-4fff-a48e-19fc63aabbf7",
   "metadata": {},
   "source": [
    "### VGG16, CIFAR10"
   ]
  },
  {
   "cell_type": "code",
   "execution_count": null,
   "id": "f7142d07-0759-4149-9faa-21b183e4aa7e",
   "metadata": {},
   "outputs": [],
   "source": [
    "class VGG16(nn.Module):\n",
    "    def __init__(self, dropout_p):\n",
    "        super().__init__()\n",
    "        self.conv11 = nn.Conv2d(3, 128, kernel_size=3, padding=1)\n",
    "        self.conv12 = nn.Conv2d(128, 128, kernel_size=3, padding=1)\n",
    "        self.conv21 = nn.Conv2d(128, 256, kernel_size=3, padding=1)\n",
    "        self.conv22 = nn.Conv2d(256, 256, kernel_size=3, padding=1)\n",
    "        self.conv31 = nn.Conv2d(256, 512, kernel_size=3, padding=1)\n",
    "        self.conv32 = nn.Conv2d(512, 512, kernel_size=3, padding=1)\n",
    "        self.fc1 = nn.Linear(512 * 4 * 4, 1024)\n",
    "        self.fc1_dropout = nn.Dropout(p=dropout_p)\n",
    "        self.fc2 = nn.Linear(1024, 1024)\n",
    "        self.fc2_dropout = nn.Dropout(p=dropout_p)\n",
    "        self.fc3 = nn.Linear(1024, 10)\n",
    "\n",
    "    def forward(self, x):\n",
    "        out = torch.relu(self.conv11(x))     # 3 x 32 x 32   -> 128 x 32 x 32\n",
    "        out = torch.relu(self.conv12(out))   # 128 x 32 x 32 -> 128 x32 x 32\n",
    "        out = functional.max_pool2d(out, 2)  # 128 x 32 x 32 -> 128 x 16 x 16\n",
    "        out = torch.relu(self.conv21(out))   # 128 x 16 x 16 -> 256 x 16 x 16\n",
    "        out = torch.relu(self.conv22(out))   # 256 x 16 x 16 -> 256 x 16 x 16\n",
    "        out = functional.max_pool2d(out, 2)  # 256 x 16 x 16 -> 256 x 8 x 8\n",
    "        out = torch.relu(self.conv31(out))   # 256 x 8 x 8   -> 512 x 8 x 8\n",
    "        out = torch.relu(self.conv32(out))   # 512 x 8 x 8   -> 512 x 8 x 8\n",
    "        out = functional.max_pool2d(out, 2)  # 512 x 8 x 8   -> 512 x 4 x 4\n",
    "        out = out.view(-1, 512 * 4 * 4)\n",
    "        out = torch.relu(self.fc1(out))      # 512 x 4 x 4 -> 1024\n",
    "        out = self.fc1_dropout(out)\n",
    "        out = torch.relu(self.fc2(out))      # 1024 -> 1024\n",
    "        out = self.fc2_dropout(out)\n",
    "        out = self.fc3(out)                  # 1024 -> 10\n",
    "        return out"
   ]
  },
  {
   "cell_type": "code",
   "execution_count": null,
   "id": "ff746d60-8d1c-45cd-8cbc-1766f5394267",
   "metadata": {},
   "outputs": [],
   "source": [
    "model = VGG16(dropout_p=0.4).to(device=device)\n",
    "train_loader = torch.utils.data.DataLoader(\n",
    "    cifar10_train, batch_size=BATCH_SIZE, shuffle=True)\n",
    "test_loader = torch.utils.data.DataLoader(\n",
    "    cifar10_test, batch_size=BATCH_SIZE, shuffle=True)"
   ]
  },
  {
   "cell_type": "markdown",
   "id": "f45535e7-51ef-4659-ba0b-34a5bdb13d48",
   "metadata": {},
   "source": [
    "**SGD**"
   ]
  },
  {
   "cell_type": "code",
   "execution_count": null,
   "id": "5bc0115f-2e19-46bb-8af0-635b964e0151",
   "metadata": {},
   "outputs": [],
   "source": [
    "optimizer = optim.SGD(model.parameters(), lr=1e-1)\n",
    "train(n_epochs=EPOCHS, optimizer=optimizer, model=model,\n",
    "      loss_fn=loss_fn, train_loader=train_loader)\n",
    "calculate_accuracy(model, train_loader, test_loader)"
   ]
  },
  {
   "cell_type": "markdown",
   "id": "22f782c9-8df9-479a-97b9-cb05c73c8793",
   "metadata": {},
   "source": [
    "**Adadelta**"
   ]
  },
  {
   "cell_type": "code",
   "execution_count": null,
   "id": "256f1be7-370e-4a9c-8f5d-bcfff817f2e4",
   "metadata": {},
   "outputs": [],
   "source": [
    "optimizer = optim.Adadelta(model.parameters(), lr=1e-1)\n",
    "train(n_epochs=EPOCHS, optimizer=optimizer, model=model,\n",
    "      loss_fn=loss_fn, train_loader=train_loader)\n",
    "calculate_accuracy(model, train_loader, test_loader)"
   ]
  },
  {
   "cell_type": "markdown",
   "id": "7a29208f-b130-4382-a400-93c0a1c42b4c",
   "metadata": {},
   "source": [
    "**NAG**"
   ]
  },
  {
   "cell_type": "code",
   "execution_count": null,
   "id": "9c425176-5edb-4fe5-9801-9d1894007041",
   "metadata": {},
   "outputs": [],
   "source": [
    "optimizer = optim.SGD(model.parameters(), lr=1e-1,\n",
    "                      momentum=MOMENTUM, nesterov=True)\n",
    "train(n_epochs=EPOCHS, optimizer=optimizer, model=model,\n",
    "      loss_fn=loss_fn, train_loader=train_loader)\n",
    "calculate_accuracy(model, train_loader, test_loader)"
   ]
  },
  {
   "cell_type": "markdown",
   "id": "f54581de-3d42-4a8c-9d72-99eee83656e3",
   "metadata": {},
   "source": [
    "**Adam**"
   ]
  },
  {
   "cell_type": "code",
   "execution_count": null,
   "id": "0a4a65ba-5fac-4b1b-9520-afade2d3ecc0",
   "metadata": {},
   "outputs": [],
   "source": [
    "optimizer = optim.Adam(model.parameters(), lr=1e-1)\n",
    "train(n_epochs=EPOCHS, optimizer=optimizer, model=model,\n",
    "      loss_fn=loss_fn, train_loader=train_loader)\n",
    "calculate_accuracy(model, train_loader, test_loader)"
   ]
  },
  {
   "cell_type": "code",
   "execution_count": null,
   "id": "acc78c8b-a990-4bc1-9409-0867c851c77f",
   "metadata": {},
   "outputs": [],
   "source": []
  }
 ],
 "metadata": {
  "kernelspec": {
   "display_name": "nnhw5",
   "language": "python",
   "name": "nnhw5"
  },
  "language_info": {
   "codemirror_mode": {
    "name": "ipython",
    "version": 3
   },
   "file_extension": ".py",
   "mimetype": "text/x-python",
   "name": "python",
   "nbconvert_exporter": "python",
   "pygments_lexer": "ipython3",
   "version": "3.12.3"
  }
 },
 "nbformat": 4,
 "nbformat_minor": 5
}
