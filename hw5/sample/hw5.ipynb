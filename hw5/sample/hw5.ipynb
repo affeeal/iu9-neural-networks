{
 "cells": [
  {
   "cell_type": "code",
   "execution_count": 1,
   "id": "c42b6997-f62e-42ca-90ad-4c9cf8ed7649",
   "metadata": {},
   "outputs": [],
   "source": [
    "import datetime\n",
    "import torch\n",
    "import torch.nn as nn\n",
    "import torch.optim as optim\n",
    "\n",
    "from torchvision import datasets, transforms, models"
   ]
  },
  {
   "cell_type": "code",
   "execution_count": 2,
   "id": "6f3e1570-fcb7-47e4-923b-0e51330060bb",
   "metadata": {},
   "outputs": [],
   "source": [
    "DATA_PATH = '../../datasets/'\n",
    "BATCH_SIZE = 100\n",
    "MOMENTUM = 0.9\n",
    "EPOCHS = 20"
   ]
  },
  {
   "cell_type": "code",
   "execution_count": 3,
   "id": "87b99753-cc7a-4794-9c32-a2b25ad2ca5c",
   "metadata": {},
   "outputs": [],
   "source": [
    "def train(n_epochs, optimizer, model, loss_fn, train_loader):\n",
    "    for epoch in range(1, n_epochs + 1):\n",
    "        loss_train = 0.0\n",
    "        for imgs, labels in train_loader:\n",
    "            imgs = imgs.to(device=device)\n",
    "            labels = labels.to(device=device)\n",
    "            outputs = model(imgs)\n",
    "            loss = loss_fn(outputs, labels)\n",
    "\n",
    "            optimizer.zero_grad()\n",
    "            loss.backward()\n",
    "            optimizer.step()\n",
    "\n",
    "            loss_train += loss.item()\n",
    "\n",
    "        print('{} Epoch {}, Training loss {}'.format(\n",
    "            datetime.datetime.now(), epoch,\n",
    "            loss_train / len(train_loader)))\n",
    "\n",
    "\n",
    "def calculate_accuracy(model, train_loader, test_loader):\n",
    "    accdict = {}\n",
    "    for name, loader in [(\"train\", train_loader), (\"test\", test_loader)]:\n",
    "        correct = 0\n",
    "        total = 0\n",
    "\n",
    "        with torch.no_grad():\n",
    "            for imgs, labels in loader:\n",
    "                imgs = imgs.to(device=device)\n",
    "                labels = labels.to(device=device)\n",
    "                outputs = model(imgs)\n",
    "                _, predicted = torch.max(outputs, dim=1)\n",
    "                total += labels.shape[0]\n",
    "                correct += int((predicted == labels).sum())\n",
    "\n",
    "        print(\"Accuracy {}: {:.3f}\".format(name, correct / total))\n",
    "        accdict[name] = correct / total\n",
    "    return accdict"
   ]
  },
  {
   "cell_type": "code",
   "execution_count": 4,
   "id": "3123d610-6e74-49e0-8759-cf68598862a2",
   "metadata": {},
   "outputs": [
    {
     "name": "stdout",
     "output_type": "stream",
     "text": [
      "Using cuda\n"
     ]
    }
   ],
   "source": [
    "device = (torch.device('cuda') if torch.cuda.is_available()\n",
    "          else torch.device('cpu'))\n",
    "print(f'Using {device}')\n",
    "loss_fn = nn.CrossEntropyLoss()"
   ]
  },
  {
   "cell_type": "code",
   "execution_count": 5,
   "id": "477ac5f1-6d7e-4723-94bd-f10d366ce4f3",
   "metadata": {},
   "outputs": [],
   "source": [
    "mnist_train = datasets.MNIST(\n",
    "    DATA_PATH, train=True, download=True, transform=transforms.Compose([\n",
    "        transforms.Resize((32, 32)),\n",
    "        transforms.ToTensor(),\n",
    "        transforms.Normalize(mean=(0.1307,), std=(0.3081,))]))\n",
    "mnist_test = datasets.MNIST(\n",
    "    DATA_PATH, train=False, download=True, transform=transforms.Compose([\n",
    "        transforms.Resize((32, 32)),\n",
    "        transforms.ToTensor(),\n",
    "        transforms.Normalize(mean=(0.1325,), std=(0.3105,))]))"
   ]
  },
  {
   "cell_type": "code",
   "execution_count": 6,
   "id": "9574c794-5c54-48f3-826a-b5a9d0c78133",
   "metadata": {},
   "outputs": [
    {
     "name": "stdout",
     "output_type": "stream",
     "text": [
      "Files already downloaded and verified\n",
      "Files already downloaded and verified\n"
     ]
    }
   ],
   "source": [
    "cifar10_train = datasets.CIFAR10(\n",
    "    DATA_PATH, train=True, download=True, transform=transforms.Compose([\n",
    "        transforms.ToTensor(),\n",
    "        transforms.Normalize((0.4915, 0.4823, 0.4468),\n",
    "                             (0.2470, 0.2435, 0.2616))\n",
    "    ]))\n",
    "cifar10_test = datasets.CIFAR10(\n",
    "    DATA_PATH, train=False, download=True, transform=transforms.Compose([\n",
    "        transforms.ToTensor(),\n",
    "        transforms.Normalize((0.4915, 0.4823, 0.4468),\n",
    "                             (0.2470, 0.2435, 0.2616))\n",
    "    ]))"
   ]
  },
  {
   "cell_type": "markdown",
   "id": "e7265d53-e230-4658-98c7-f8102699db74",
   "metadata": {},
   "source": [
    "### LeNet, MNIST"
   ]
  },
  {
   "cell_type": "code",
   "execution_count": 7,
   "id": "f890eed1-97c2-4cb2-9d9a-a456dc54eacb",
   "metadata": {},
   "outputs": [],
   "source": [
    "class LeNet5(nn.Module):\n",
    "    def __init__(self, num_classes):\n",
    "        super(LeNet5, self).__init__()\n",
    "        self.layer1 = nn.Sequential(\n",
    "            nn.Conv2d(1, 6, kernel_size=5, stride=1, padding=0),\n",
    "            nn.BatchNorm2d(6),\n",
    "            nn.ReLU(),\n",
    "            nn.MaxPool2d(kernel_size=2, stride=2))\n",
    "        self.layer2 = nn.Sequential(\n",
    "            nn.Conv2d(6, 16, kernel_size=5, stride=1, padding=0),\n",
    "            nn.BatchNorm2d(16),\n",
    "            nn.ReLU(),\n",
    "            nn.MaxPool2d(kernel_size=2, stride=2))\n",
    "        self.fc = nn.Linear(400, 120)\n",
    "        self.relu = nn.ReLU()\n",
    "        self.fc1 = nn.Linear(120, 84)\n",
    "        self.relu1 = nn.ReLU()\n",
    "        self.fc2 = nn.Linear(84, num_classes)\n",
    "\n",
    "    def forward(self, x):\n",
    "        out = self.layer1(x)\n",
    "        out = self.layer2(out)\n",
    "        out = out.reshape(out.size(0), -1)\n",
    "        out = self.fc(out)\n",
    "        out = self.relu(out)\n",
    "        out = self.fc1(out)\n",
    "        out = self.relu1(out)\n",
    "        out = self.fc2(out)\n",
    "        return out"
   ]
  },
  {
   "cell_type": "code",
   "execution_count": 8,
   "id": "1562a998-a904-4f71-96f4-1e8f6b02ac4e",
   "metadata": {},
   "outputs": [],
   "source": [
    "model = LeNet5(num_classes=10).to(device=device)\n",
    "train_loader = torch.utils.data.DataLoader(\n",
    "    mnist_train, batch_size=BATCH_SIZE, shuffle=True)\n",
    "test_loader = torch.utils.data.DataLoader(\n",
    "    mnist_test, batch_size=BATCH_SIZE, shuffle=True)"
   ]
  },
  {
   "cell_type": "markdown",
   "id": "e5a20f25-b614-4ecc-845c-3869ac27c88a",
   "metadata": {},
   "source": [
    "**SGD**"
   ]
  },
  {
   "cell_type": "code",
   "execution_count": 9,
   "id": "6c9ce80d-f78e-4806-90bb-c593d7c6e87b",
   "metadata": {},
   "outputs": [
    {
     "name": "stdout",
     "output_type": "stream",
     "text": [
      "2024-12-27 05:43:44.382239 Epoch 1, Training loss 0.9709130334854126\n",
      "2024-12-27 05:43:54.280244 Epoch 2, Training loss 0.18116920304174225\n",
      "2024-12-27 05:44:04.439525 Epoch 3, Training loss 0.12263486022129655\n",
      "2024-12-27 05:44:14.654213 Epoch 4, Training loss 0.09835940724549194\n",
      "2024-12-27 05:44:24.710068 Epoch 5, Training loss 0.08443749769901236\n",
      "2024-12-27 05:44:35.998078 Epoch 6, Training loss 0.07507873718005915\n",
      "2024-12-27 05:44:46.857432 Epoch 7, Training loss 0.06755098795052618\n",
      "2024-12-27 05:44:57.171180 Epoch 8, Training loss 0.06253591927078862\n",
      "2024-12-27 05:45:07.343682 Epoch 9, Training loss 0.05784833033025886\n",
      "2024-12-27 05:45:17.392449 Epoch 10, Training loss 0.053663668102429556\n",
      "2024-12-27 05:45:27.203085 Epoch 11, Training loss 0.05041135947375248\n",
      "2024-12-27 05:45:37.214248 Epoch 12, Training loss 0.048087020746121804\n",
      "2024-12-27 05:45:47.751013 Epoch 13, Training loss 0.04544614834245295\n",
      "2024-12-27 05:45:57.912969 Epoch 14, Training loss 0.04318678759775745\n",
      "2024-12-27 05:46:07.515410 Epoch 15, Training loss 0.04105208969054123\n",
      "2024-12-27 05:46:17.232074 Epoch 16, Training loss 0.03933104318100959\n",
      "2024-12-27 05:46:26.928370 Epoch 17, Training loss 0.03793232023017481\n",
      "2024-12-27 05:46:36.655436 Epoch 18, Training loss 0.03634615286525029\n",
      "2024-12-27 05:46:46.272518 Epoch 19, Training loss 0.0348164866612448\n",
      "2024-12-27 05:46:55.965616 Epoch 20, Training loss 0.03349890488956589\n",
      "Accuracy train: 0.991\n",
      "Accuracy test: 0.988\n"
     ]
    },
    {
     "data": {
      "text/plain": [
       "{'train': 0.9907333333333334, 'test': 0.9875}"
      ]
     },
     "execution_count": 9,
     "metadata": {},
     "output_type": "execute_result"
    }
   ],
   "source": [
    "optimizer = optim.SGD(model.parameters(), lr=1e-2)\n",
    "train(n_epochs=EPOCHS, optimizer=optimizer, model=model,\n",
    "      loss_fn=loss_fn, train_loader=train_loader)\n",
    "calculate_accuracy(model, train_loader, test_loader)"
   ]
  },
  {
   "cell_type": "markdown",
   "id": "d3fc22a7-409b-44ce-9edd-b8dfa21d3355",
   "metadata": {},
   "source": [
    "**Adadelta**"
   ]
  },
  {
   "cell_type": "code",
   "execution_count": 10,
   "id": "b5a7dfbe-ceb5-428a-8d08-5b78ef677e18",
   "metadata": {},
   "outputs": [
    {
     "name": "stdout",
     "output_type": "stream",
     "text": [
      "2024-12-27 05:47:16.143790 Epoch 1, Training loss 0.029975940874622513\n",
      "2024-12-27 05:47:25.918703 Epoch 2, Training loss 0.029087861885588307\n",
      "2024-12-27 05:47:35.624744 Epoch 3, Training loss 0.028585986309141543\n",
      "2024-12-27 05:47:45.388101 Epoch 4, Training loss 0.02808055791441196\n",
      "2024-12-27 05:47:55.125202 Epoch 5, Training loss 0.02759824851178564\n",
      "2024-12-27 05:48:04.913413 Epoch 6, Training loss 0.027496049007750115\n",
      "2024-12-27 05:48:14.691488 Epoch 7, Training loss 0.026986650489270687\n",
      "2024-12-27 05:48:24.347665 Epoch 8, Training loss 0.02632795707070424\n",
      "2024-12-27 05:48:34.006511 Epoch 9, Training loss 0.026086838807871875\n",
      "2024-12-27 05:48:43.648947 Epoch 10, Training loss 0.025703956344902204\n",
      "2024-12-27 05:48:53.302229 Epoch 11, Training loss 0.025484344362048432\n",
      "2024-12-27 05:49:02.964348 Epoch 12, Training loss 0.025385530125931838\n",
      "2024-12-27 05:49:12.623512 Epoch 13, Training loss 0.025172311485318156\n",
      "2024-12-27 05:49:22.284246 Epoch 14, Training loss 0.024544269107670214\n",
      "2024-12-27 05:49:31.937518 Epoch 15, Training loss 0.024174542364974818\n",
      "2024-12-27 05:49:41.725658 Epoch 16, Training loss 0.02399092615717867\n",
      "2024-12-27 05:49:51.671388 Epoch 17, Training loss 0.023868274704630797\n",
      "2024-12-27 05:50:01.481832 Epoch 18, Training loss 0.023346483058218535\n",
      "2024-12-27 05:50:11.301745 Epoch 19, Training loss 0.022974199116385232\n",
      "2024-12-27 05:50:21.109553 Epoch 20, Training loss 0.022667507108029287\n",
      "Accuracy train: 0.994\n",
      "Accuracy test: 0.990\n"
     ]
    },
    {
     "data": {
      "text/plain": [
       "{'train': 0.9940333333333333, 'test': 0.9898}"
      ]
     },
     "execution_count": 10,
     "metadata": {},
     "output_type": "execute_result"
    }
   ],
   "source": [
    "optimizer = optim.Adadelta(model.parameters(), lr=1e-2)\n",
    "train(n_epochs=EPOCHS, optimizer=optimizer, model=model,\n",
    "      loss_fn=loss_fn, train_loader=train_loader)\n",
    "calculate_accuracy(model, train_loader, test_loader)"
   ]
  },
  {
   "cell_type": "markdown",
   "id": "d1ce4ffb-fd3c-4cf7-9afa-65e322fa2b34",
   "metadata": {},
   "source": [
    "**NAG**"
   ]
  },
  {
   "cell_type": "code",
   "execution_count": 11,
   "id": "9b067ee4-a6bf-4cd6-b0b7-78a53ddb341f",
   "metadata": {},
   "outputs": [
    {
     "name": "stdout",
     "output_type": "stream",
     "text": [
      "2024-12-27 05:50:41.102758 Epoch 1, Training loss 0.051500526732221864\n",
      "2024-12-27 05:50:50.907622 Epoch 2, Training loss 0.03743715446481171\n",
      "2024-12-27 05:51:00.600226 Epoch 3, Training loss 0.031433000217657533\n",
      "2024-12-27 05:51:10.340814 Epoch 4, Training loss 0.026698848272887214\n",
      "2024-12-27 05:51:20.042751 Epoch 5, Training loss 0.022512387492267104\n",
      "2024-12-27 05:51:29.713219 Epoch 6, Training loss 0.019742955657517693\n",
      "2024-12-27 05:51:39.482034 Epoch 7, Training loss 0.01834316719992785\n",
      "2024-12-27 05:51:49.153628 Epoch 8, Training loss 0.01563745901391182\n",
      "2024-12-27 05:51:59.059716 Epoch 9, Training loss 0.01371840792632914\n",
      "2024-12-27 05:52:08.804944 Epoch 10, Training loss 0.012235049629598507\n",
      "2024-12-27 05:52:18.392998 Epoch 11, Training loss 0.01039045274189751\n",
      "2024-12-27 05:52:28.154860 Epoch 12, Training loss 0.009174281926437591\n",
      "2024-12-27 05:52:38.032180 Epoch 13, Training loss 0.008772535492856453\n",
      "2024-12-27 05:52:47.768919 Epoch 14, Training loss 0.008014437909053717\n",
      "2024-12-27 05:52:57.666502 Epoch 15, Training loss 0.006780308328616229\n",
      "2024-12-27 05:53:07.532600 Epoch 16, Training loss 0.005849196675189888\n",
      "2024-12-27 05:53:17.343184 Epoch 17, Training loss 0.005582846913133229\n",
      "2024-12-27 05:53:27.409650 Epoch 18, Training loss 0.004990272895374801\n",
      "2024-12-27 05:53:37.289873 Epoch 19, Training loss 0.003960730096174908\n",
      "2024-12-27 05:53:47.049975 Epoch 20, Training loss 0.003179716606470417\n",
      "Accuracy train: 0.999\n",
      "Accuracy test: 0.993\n"
     ]
    },
    {
     "data": {
      "text/plain": [
       "{'train': 0.9994666666666666, 'test': 0.9933}"
      ]
     },
     "execution_count": 11,
     "metadata": {},
     "output_type": "execute_result"
    }
   ],
   "source": [
    "optimizer = optim.SGD(model.parameters(), lr=1e-2,\n",
    "                      momentum=MOMENTUM, nesterov=True)\n",
    "train(n_epochs=EPOCHS, optimizer=optimizer, model=model,\n",
    "      loss_fn=loss_fn, train_loader=train_loader)\n",
    "calculate_accuracy(model, train_loader, test_loader)"
   ]
  },
  {
   "cell_type": "markdown",
   "id": "e61c60d7-8810-4084-91df-dade3529e222",
   "metadata": {},
   "source": [
    "**Adam**"
   ]
  },
  {
   "cell_type": "code",
   "execution_count": 12,
   "id": "f7383cde-1617-4812-9d19-69ecec765afd",
   "metadata": {},
   "outputs": [
    {
     "name": "stdout",
     "output_type": "stream",
     "text": [
      "2024-12-27 05:54:07.475926 Epoch 1, Training loss 0.12787433224720493\n",
      "2024-12-27 05:54:17.350632 Epoch 2, Training loss 0.051721842843010866\n",
      "2024-12-27 05:54:27.302634 Epoch 3, Training loss 0.043220377285033466\n",
      "2024-12-27 05:54:37.256713 Epoch 4, Training loss 0.03932285569045538\n",
      "2024-12-27 05:54:47.138577 Epoch 5, Training loss 0.0364250664539577\n",
      "2024-12-27 05:54:57.071279 Epoch 6, Training loss 0.0349117018582668\n",
      "2024-12-27 05:55:07.952487 Epoch 7, Training loss 0.03298534250941884\n",
      "2024-12-27 05:55:18.584845 Epoch 8, Training loss 0.03568884287732847\n",
      "2024-12-27 05:55:28.474390 Epoch 9, Training loss 0.03184653880197099\n",
      "2024-12-27 05:55:38.487818 Epoch 10, Training loss 0.031566978905151095\n",
      "2024-12-27 05:55:48.401318 Epoch 11, Training loss 0.029672477661588346\n",
      "2024-12-27 05:55:58.301295 Epoch 12, Training loss 0.02824134395073391\n",
      "2024-12-27 05:56:08.058776 Epoch 13, Training loss 0.025393053956080016\n",
      "2024-12-27 05:56:18.018293 Epoch 14, Training loss 0.02602242799771678\n",
      "2024-12-27 05:56:28.160158 Epoch 15, Training loss 0.026421927711695995\n",
      "2024-12-27 05:56:38.293048 Epoch 16, Training loss 0.022595637697750134\n",
      "2024-12-27 05:56:48.286082 Epoch 17, Training loss 0.02125661541045929\n",
      "2024-12-27 05:56:58.290583 Epoch 18, Training loss 0.024085673953137907\n",
      "2024-12-27 05:57:08.254770 Epoch 19, Training loss 0.020179435535970545\n",
      "2024-12-27 05:57:18.037817 Epoch 20, Training loss 0.02248397926415578\n",
      "Accuracy train: 0.996\n",
      "Accuracy test: 0.990\n"
     ]
    },
    {
     "data": {
      "text/plain": [
       "{'train': 0.9964333333333333, 'test': 0.9898}"
      ]
     },
     "execution_count": 12,
     "metadata": {},
     "output_type": "execute_result"
    }
   ],
   "source": [
    "optimizer = optim.Adam(model.parameters(), lr=1e-2)\n",
    "train(n_epochs=EPOCHS, optimizer=optimizer, model=model,\n",
    "      loss_fn=loss_fn, train_loader=train_loader)\n",
    "calculate_accuracy(model, train_loader, test_loader)"
   ]
  },
  {
   "cell_type": "markdown",
   "id": "1fd1abdb-d7b9-4fff-a48e-19fc63aabbf7",
   "metadata": {},
   "source": [
    "### VGG16, CIFAR10"
   ]
  },
  {
   "cell_type": "code",
   "execution_count": 13,
   "id": "ff746d60-8d1c-45cd-8cbc-1766f5394267",
   "metadata": {},
   "outputs": [],
   "source": [
    "model = models.vgg16(num_classes=10, dropout=0.5).to(device=device)\n",
    "train_loader = torch.utils.data.DataLoader(\n",
    "    cifar10_train, batch_size=BATCH_SIZE, shuffle=True)\n",
    "test_loader = torch.utils.data.DataLoader(\n",
    "    cifar10_test, batch_size=BATCH_SIZE, shuffle=True)"
   ]
  },
  {
   "cell_type": "markdown",
   "id": "f45535e7-51ef-4659-ba0b-34a5bdb13d48",
   "metadata": {},
   "source": [
    "**SGD**"
   ]
  },
  {
   "cell_type": "code",
   "execution_count": 14,
   "id": "5bc0115f-2e19-46bb-8af0-635b964e0151",
   "metadata": {},
   "outputs": [
    {
     "name": "stdout",
     "output_type": "stream",
     "text": [
      "2024-12-27 05:58:29.126492 Epoch 1, Training loss 2.2296725933551786\n",
      "2024-12-27 05:59:28.596724 Epoch 2, Training loss 1.9435393800735474\n",
      "2024-12-27 06:00:28.311521 Epoch 3, Training loss 1.6871578221321106\n",
      "2024-12-27 06:01:28.338746 Epoch 4, Training loss 1.4983220281600953\n",
      "2024-12-27 06:02:29.377392 Epoch 5, Training loss 1.368983939409256\n",
      "2024-12-27 06:03:29.966802 Epoch 6, Training loss 1.249396910905838\n",
      "2024-12-27 06:04:30.393539 Epoch 7, Training loss 1.1458671696186065\n",
      "2024-12-27 06:05:30.666567 Epoch 8, Training loss 1.0404935233592987\n",
      "2024-12-27 06:06:30.964003 Epoch 9, Training loss 0.9448642734289169\n",
      "2024-12-27 06:07:31.294690 Epoch 10, Training loss 0.8627091385126114\n",
      "2024-12-27 06:08:31.504153 Epoch 11, Training loss 0.7808680199384689\n",
      "2024-12-27 06:09:31.710665 Epoch 12, Training loss 0.7030427494049072\n",
      "2024-12-27 06:10:31.980979 Epoch 13, Training loss 0.6319894831180572\n",
      "2024-12-27 06:11:32.273003 Epoch 14, Training loss 0.5574026307463646\n",
      "2024-12-27 06:12:32.531915 Epoch 15, Training loss 0.49133656939864156\n",
      "2024-12-27 06:13:32.818928 Epoch 16, Training loss 0.42543612828850746\n",
      "2024-12-27 06:14:33.115709 Epoch 17, Training loss 0.36337489685416224\n",
      "2024-12-27 06:15:33.404606 Epoch 18, Training loss 0.3103350497931242\n",
      "2024-12-27 06:16:33.436745 Epoch 19, Training loss 0.2605737485513091\n",
      "2024-12-27 06:17:33.424364 Epoch 20, Training loss 0.20400628094375134\n",
      "Accuracy train: 0.943\n",
      "Accuracy test: 0.730\n"
     ]
    },
    {
     "data": {
      "text/plain": [
       "{'train': 0.94304, 'test': 0.7295}"
      ]
     },
     "execution_count": 14,
     "metadata": {},
     "output_type": "execute_result"
    }
   ],
   "source": [
    "optimizer = optim.SGD(model.parameters(), lr=1e-2)\n",
    "train(n_epochs=EPOCHS, optimizer=optimizer, model=model,\n",
    "      loss_fn=loss_fn, train_loader=train_loader)\n",
    "calculate_accuracy(model, train_loader, test_loader)"
   ]
  },
  {
   "cell_type": "markdown",
   "id": "22f782c9-8df9-479a-97b9-cb05c73c8793",
   "metadata": {},
   "source": [
    "**Adadelta**"
   ]
  },
  {
   "cell_type": "code",
   "execution_count": 15,
   "id": "256f1be7-370e-4a9c-8f5d-bcfff817f2e4",
   "metadata": {},
   "outputs": [
    {
     "name": "stdout",
     "output_type": "stream",
     "text": [
      "2024-12-27 06:19:41.523693 Epoch 1, Training loss 0.05363255119137466\n",
      "2024-12-27 06:21:19.083092 Epoch 2, Training loss 0.018434931389987468\n",
      "2024-12-27 06:22:56.620713 Epoch 3, Training loss 0.008190690333023668\n",
      "2024-12-27 06:24:34.154383 Epoch 4, Training loss 0.003232448733091587\n",
      "2024-12-27 06:26:11.647139 Epoch 5, Training loss 0.0014996128559287172\n",
      "2024-12-27 06:27:49.105822 Epoch 6, Training loss 0.0008537345769873355\n",
      "2024-12-27 06:29:26.660707 Epoch 7, Training loss 0.000410893400603527\n",
      "2024-12-27 06:31:04.214972 Epoch 8, Training loss 0.00027842877916737054\n",
      "2024-12-27 06:32:41.727296 Epoch 9, Training loss 0.00028123685726313854\n",
      "2024-12-27 06:34:19.239466 Epoch 10, Training loss 0.0001833191162404546\n",
      "2024-12-27 06:35:56.814737 Epoch 11, Training loss 0.00015718891753203933\n",
      "2024-12-27 06:37:34.366307 Epoch 12, Training loss 0.00018403081660108\n",
      "2024-12-27 06:39:11.937801 Epoch 13, Training loss 0.00018820938594581093\n",
      "2024-12-27 06:40:49.400105 Epoch 14, Training loss 0.00013267117371924543\n",
      "2024-12-27 06:42:26.860830 Epoch 15, Training loss 8.318420708292251e-05\n",
      "2024-12-27 06:44:04.308546 Epoch 16, Training loss 0.0001386770610820349\n",
      "2024-12-27 06:45:41.745938 Epoch 17, Training loss 8.834352980011317e-05\n",
      "2024-12-27 06:47:19.169231 Epoch 18, Training loss 7.948907211266488e-05\n",
      "2024-12-27 06:48:56.617580 Epoch 19, Training loss 6.787993653688318e-05\n",
      "2024-12-27 06:50:34.089430 Epoch 20, Training loss 6.919595461249627e-05\n",
      "Accuracy train: 1.000\n",
      "Accuracy test: 0.760\n"
     ]
    },
    {
     "data": {
      "text/plain": [
       "{'train': 1.0, 'test': 0.7599}"
      ]
     },
     "execution_count": 15,
     "metadata": {},
     "output_type": "execute_result"
    }
   ],
   "source": [
    "optimizer = optim.Adadelta(model.parameters(), lr=1e-2)\n",
    "train(n_epochs=EPOCHS, optimizer=optimizer, model=model,\n",
    "      loss_fn=loss_fn, train_loader=train_loader)\n",
    "calculate_accuracy(model, train_loader, test_loader)"
   ]
  },
  {
   "cell_type": "markdown",
   "id": "7a29208f-b130-4382-a400-93c0a1c42b4c",
   "metadata": {},
   "source": [
    "**NAG**"
   ]
  },
  {
   "cell_type": "code",
   "execution_count": 16,
   "id": "9c425176-5edb-4fe5-9801-9d1894007041",
   "metadata": {},
   "outputs": [
    {
     "name": "stdout",
     "output_type": "stream",
     "text": [
      "2024-12-27 06:52:15.905873 Epoch 1, Training loss 2.102879531441773\n",
      "2024-12-27 06:53:27.389289 Epoch 2, Training loss 2.242182055234909\n",
      "2024-12-27 06:54:38.725647 Epoch 3, Training loss 2.303988904476166\n",
      "2024-12-27 06:55:50.138673 Epoch 4, Training loss 2.131973477602005\n",
      "2024-12-27 06:57:01.763997 Epoch 5, Training loss 1.6647806313037872\n",
      "2024-12-27 06:58:13.541781 Epoch 6, Training loss 1.2597789784669877\n",
      "2024-12-27 06:59:25.301577 Epoch 7, Training loss 1.014926502943039\n",
      "2024-12-27 07:00:37.038996 Epoch 8, Training loss 0.8506213674545288\n",
      "2024-12-27 07:01:48.703864 Epoch 9, Training loss 0.7294409753680229\n",
      "2024-12-27 07:03:00.512596 Epoch 10, Training loss 0.6243732739686966\n",
      "2024-12-27 07:04:12.309809 Epoch 11, Training loss 0.5337138203382492\n",
      "2024-12-27 07:05:24.071524 Epoch 12, Training loss 0.46514758133888245\n",
      "2024-12-27 07:06:35.825504 Epoch 13, Training loss 0.39540938463807107\n",
      "2024-12-27 07:07:47.595111 Epoch 14, Training loss 0.34314043936133387\n",
      "2024-12-27 07:08:59.366145 Epoch 15, Training loss 0.30030655896663666\n",
      "2024-12-27 07:10:11.150281 Epoch 16, Training loss 0.2571221482753754\n",
      "2024-12-27 07:11:22.948416 Epoch 17, Training loss 0.220513774625957\n",
      "2024-12-27 07:12:34.738296 Epoch 18, Training loss 0.19152951630204915\n",
      "2024-12-27 07:13:46.554922 Epoch 19, Training loss 0.16646252650767565\n",
      "2024-12-27 07:14:58.375745 Epoch 20, Training loss 0.14289380759373307\n",
      "Accuracy train: 0.963\n",
      "Accuracy test: 0.785\n"
     ]
    },
    {
     "data": {
      "text/plain": [
       "{'train': 0.96302, 'test': 0.7851}"
      ]
     },
     "execution_count": 16,
     "metadata": {},
     "output_type": "execute_result"
    }
   ],
   "source": [
    "optimizer = optim.SGD(model.parameters(), lr=1e-2,\n",
    "                      momentum=MOMENTUM, nesterov=True)\n",
    "train(n_epochs=EPOCHS, optimizer=optimizer, model=model,\n",
    "      loss_fn=loss_fn, train_loader=train_loader)\n",
    "calculate_accuracy(model, train_loader, test_loader)"
   ]
  },
  {
   "cell_type": "markdown",
   "id": "f54581de-3d42-4a8c-9d72-99eee83656e3",
   "metadata": {},
   "source": [
    "**Adam**"
   ]
  },
  {
   "cell_type": "code",
   "execution_count": 17,
   "id": "0a4a65ba-5fac-4b1b-9520-afade2d3ecc0",
   "metadata": {},
   "outputs": [
    {
     "name": "stdout",
     "output_type": "stream",
     "text": [
      "2024-12-27 07:16:50.751684 Epoch 1, Training loss 17664.79536634597\n",
      "2024-12-27 07:18:12.638721 Epoch 2, Training loss 2.45382753944397\n",
      "2024-12-27 07:19:34.602374 Epoch 3, Training loss 2.3197092747688295\n",
      "2024-12-27 07:20:56.613386 Epoch 4, Training loss 2.324620099067688\n",
      "2024-12-27 07:22:18.622945 Epoch 5, Training loss 2.313235326766968\n",
      "2024-12-27 07:23:40.604565 Epoch 6, Training loss 2.3107501273155213\n",
      "2024-12-27 07:25:02.554130 Epoch 7, Training loss 2.3041173877716066\n",
      "2024-12-27 07:26:24.490521 Epoch 8, Training loss 2.3037308440208437\n",
      "2024-12-27 07:27:46.431350 Epoch 9, Training loss 2.308174916267395\n",
      "2024-12-27 07:29:08.440138 Epoch 10, Training loss 66.16066323995591\n",
      "2024-12-27 07:30:30.345933 Epoch 11, Training loss 18.246604873180388\n",
      "2024-12-27 07:31:52.184555 Epoch 12, Training loss 2.3064777994155885\n",
      "2024-12-27 07:33:13.997023 Epoch 13, Training loss 2.3039369015693665\n",
      "2024-12-27 07:34:35.852795 Epoch 14, Training loss 2.30405695104599\n",
      "2024-12-27 07:35:57.677704 Epoch 15, Training loss 2.306131461620331\n",
      "2024-12-27 07:37:19.483792 Epoch 16, Training loss 2.303539704799652\n",
      "2024-12-27 07:38:41.362985 Epoch 17, Training loss 2.304821708202362\n",
      "2024-12-27 07:40:03.223330 Epoch 18, Training loss 2.30378813791275\n",
      "2024-12-27 07:41:25.078084 Epoch 19, Training loss 2.303653559207916\n",
      "2024-12-27 07:42:46.917869 Epoch 20, Training loss 2.3036449251174926\n",
      "Accuracy train: 0.100\n",
      "Accuracy test: 0.100\n"
     ]
    },
    {
     "data": {
      "text/plain": [
       "{'train': 0.1, 'test': 0.0999}"
      ]
     },
     "execution_count": 17,
     "metadata": {},
     "output_type": "execute_result"
    }
   ],
   "source": [
    "optimizer = optim.Adam(model.parameters(), lr=1e-2)\n",
    "train(n_epochs=EPOCHS, optimizer=optimizer, model=model,\n",
    "      loss_fn=loss_fn, train_loader=train_loader)\n",
    "calculate_accuracy(model, train_loader, test_loader)"
   ]
  },
  {
   "cell_type": "markdown",
   "id": "5fabfbb8-85c9-4060-ae4e-66446c603a31",
   "metadata": {},
   "source": [
    "### ResNet34, CIFAR10"
   ]
  },
  {
   "cell_type": "code",
   "execution_count": 18,
   "id": "85ff577f-f67b-4c7a-a5dd-bd5ba1d63e59",
   "metadata": {},
   "outputs": [],
   "source": [
    "model = models.resnet34(num_classes=10).to(device)"
   ]
  },
  {
   "cell_type": "markdown",
   "id": "25347c0b-b813-43ba-85c6-731c6dd99b64",
   "metadata": {},
   "source": [
    "**SGD**"
   ]
  },
  {
   "cell_type": "code",
   "execution_count": 19,
   "id": "064e761f-57f6-4ed9-974e-943c3bdae352",
   "metadata": {},
   "outputs": [
    {
     "name": "stdout",
     "output_type": "stream",
     "text": [
      "2024-12-27 07:43:56.413408 Epoch 1, Training loss 1.741152853012085\n",
      "2024-12-27 07:44:35.481356 Epoch 2, Training loss 1.3936313543319703\n",
      "2024-12-27 07:45:14.534921 Epoch 3, Training loss 1.2149140868186952\n",
      "2024-12-27 07:45:53.648642 Epoch 4, Training loss 1.078296981573105\n",
      "2024-12-27 07:46:32.794918 Epoch 5, Training loss 0.9506015863418579\n",
      "2024-12-27 07:47:11.869833 Epoch 6, Training loss 0.8397922549247742\n",
      "2024-12-27 07:47:50.979581 Epoch 7, Training loss 0.7313443795442581\n",
      "2024-12-27 07:48:30.101202 Epoch 8, Training loss 0.6348851273655891\n",
      "2024-12-27 07:49:09.222406 Epoch 9, Training loss 0.5431101906299591\n",
      "2024-12-27 07:49:48.344859 Epoch 10, Training loss 0.4654421541392803\n",
      "2024-12-27 07:50:27.463641 Epoch 11, Training loss 0.39376586812734604\n",
      "2024-12-27 07:51:06.545274 Epoch 12, Training loss 0.33358875414729117\n",
      "2024-12-27 07:51:45.634584 Epoch 13, Training loss 0.2801771402209997\n",
      "2024-12-27 07:52:24.659222 Epoch 14, Training loss 0.2407137423604727\n",
      "2024-12-27 07:53:03.672738 Epoch 15, Training loss 0.20668158351629973\n",
      "2024-12-27 07:53:42.700232 Epoch 16, Training loss 0.1775394907593727\n",
      "2024-12-27 07:54:21.812715 Epoch 17, Training loss 0.15871124459058047\n",
      "2024-12-27 07:55:00.885647 Epoch 18, Training loss 0.13918089359253644\n",
      "2024-12-27 07:55:39.979267 Epoch 19, Training loss 0.11218227502331138\n",
      "2024-12-27 07:56:19.067788 Epoch 20, Training loss 0.1183344028070569\n",
      "Accuracy train: 0.968\n",
      "Accuracy test: 0.614\n"
     ]
    },
    {
     "data": {
      "text/plain": [
       "{'train': 0.96778, 'test': 0.6135}"
      ]
     },
     "execution_count": 19,
     "metadata": {},
     "output_type": "execute_result"
    }
   ],
   "source": [
    "optimizer = optim.SGD(model.parameters(), lr=1e-2)\n",
    "train(n_epochs=EPOCHS, optimizer=optimizer, model=model,\n",
    "      loss_fn=loss_fn, train_loader=train_loader)\n",
    "calculate_accuracy(model, train_loader, test_loader)"
   ]
  },
  {
   "cell_type": "markdown",
   "id": "d424586a-0381-43f9-a77a-16d7fc777dbf",
   "metadata": {},
   "source": [
    "**Adadelta**"
   ]
  },
  {
   "cell_type": "code",
   "execution_count": 20,
   "id": "19e57514-3b22-4137-9b99-c5f4155ee8c4",
   "metadata": {},
   "outputs": [
    {
     "name": "stdout",
     "output_type": "stream",
     "text": [
      "2024-12-27 07:57:20.737752 Epoch 1, Training loss 0.04060892623476684\n",
      "2024-12-27 07:58:05.610311 Epoch 2, Training loss 0.014850982825038954\n",
      "2024-12-27 07:58:50.481070 Epoch 3, Training loss 0.008961891505285166\n",
      "2024-12-27 07:59:35.365232 Epoch 4, Training loss 0.006469234968884848\n",
      "2024-12-27 08:00:20.248606 Epoch 5, Training loss 0.005384723340626806\n",
      "2024-12-27 08:01:05.147839 Epoch 6, Training loss 0.004588261961791432\n",
      "2024-12-27 08:01:50.012632 Epoch 7, Training loss 0.0038700731814606116\n",
      "2024-12-27 08:02:34.912241 Epoch 8, Training loss 0.0036040999270335306\n",
      "2024-12-27 08:03:19.799730 Epoch 9, Training loss 0.0027631831181643067\n",
      "2024-12-27 08:04:04.672032 Epoch 10, Training loss 0.0027456491850316525\n",
      "2024-12-27 08:04:49.414105 Epoch 11, Training loss 0.003078521876304876\n",
      "2024-12-27 08:05:34.239618 Epoch 12, Training loss 0.0018907826265494804\n",
      "2024-12-27 08:06:19.134727 Epoch 13, Training loss 0.00195129486406222\n",
      "2024-12-27 08:07:04.040736 Epoch 14, Training loss 0.0014128257419215515\n",
      "2024-12-27 08:07:48.873433 Epoch 15, Training loss 0.0014757413867628202\n",
      "2024-12-27 08:08:33.824411 Epoch 16, Training loss 0.0015368165919790045\n",
      "2024-12-27 08:09:18.724867 Epoch 17, Training loss 0.0011770882170822005\n",
      "2024-12-27 08:10:03.593844 Epoch 18, Training loss 0.0013979624350322411\n",
      "2024-12-27 08:10:48.320287 Epoch 19, Training loss 0.0010830301435707952\n",
      "2024-12-27 08:11:33.214914 Epoch 20, Training loss 0.001442732626128418\n",
      "Accuracy train: 1.000\n",
      "Accuracy test: 0.643\n"
     ]
    },
    {
     "data": {
      "text/plain": [
       "{'train': 0.9998, 'test': 0.6435}"
      ]
     },
     "execution_count": 20,
     "metadata": {},
     "output_type": "execute_result"
    }
   ],
   "source": [
    "optimizer = optim.Adadelta(model.parameters(), lr=1e-2)\n",
    "train(n_epochs=EPOCHS, optimizer=optimizer, model=model,\n",
    "      loss_fn=loss_fn, train_loader=train_loader)\n",
    "calculate_accuracy(model, train_loader, test_loader)"
   ]
  },
  {
   "cell_type": "markdown",
   "id": "04cb342a-3bf9-4ff5-9633-670c5bf8bab7",
   "metadata": {},
   "source": [
    "**NAG**"
   ]
  },
  {
   "cell_type": "code",
   "execution_count": 21,
   "id": "822e22b8-ad35-4604-99ed-b956e063186a",
   "metadata": {},
   "outputs": [
    {
     "name": "stdout",
     "output_type": "stream",
     "text": [
      "2024-12-27 08:12:30.904321 Epoch 1, Training loss 1.300702776776656\n",
      "2024-12-27 08:13:11.814550 Epoch 2, Training loss 0.9454583877325058\n",
      "2024-12-27 08:13:52.726813 Epoch 3, Training loss 0.7825373379588128\n",
      "2024-12-27 08:14:33.629662 Epoch 4, Training loss 0.6566253761053086\n",
      "2024-12-27 08:15:14.414279 Epoch 5, Training loss 0.5409152450561523\n",
      "2024-12-27 08:15:55.307757 Epoch 6, Training loss 0.46013272497057917\n",
      "2024-12-27 08:16:36.229785 Epoch 7, Training loss 0.3908095486164093\n",
      "2024-12-27 08:17:17.157041 Epoch 8, Training loss 0.30847922000288963\n",
      "2024-12-27 08:17:58.092999 Epoch 9, Training loss 0.2497867405563593\n",
      "2024-12-27 08:18:39.016776 Epoch 10, Training loss 0.2046178793683648\n",
      "2024-12-27 08:19:19.903111 Epoch 11, Training loss 0.16985211800038816\n",
      "2024-12-27 08:20:00.787487 Epoch 12, Training loss 0.15192330961674452\n",
      "2024-12-27 08:20:41.650029 Epoch 13, Training loss 0.1256606623530388\n",
      "2024-12-27 08:21:22.555863 Epoch 14, Training loss 0.11229557209089398\n",
      "2024-12-27 08:22:03.457600 Epoch 15, Training loss 0.09690089674293995\n",
      "2024-12-27 08:22:44.365132 Epoch 16, Training loss 0.08194639713317156\n",
      "2024-12-27 08:23:25.261366 Epoch 17, Training loss 0.06682371942792088\n",
      "2024-12-27 08:24:06.171955 Epoch 18, Training loss 0.0689581151958555\n",
      "2024-12-27 08:24:47.073585 Epoch 19, Training loss 0.06254888266976923\n",
      "2024-12-27 08:25:27.978090 Epoch 20, Training loss 0.04914654558990151\n",
      "Accuracy train: 0.986\n",
      "Accuracy test: 0.748\n"
     ]
    },
    {
     "data": {
      "text/plain": [
       "{'train': 0.98554, 'test': 0.7475}"
      ]
     },
     "execution_count": 21,
     "metadata": {},
     "output_type": "execute_result"
    }
   ],
   "source": [
    "optimizer = optim.SGD(model.parameters(), lr=1e-2,\n",
    "                      momentum=MOMENTUM, nesterov=True)\n",
    "train(n_epochs=EPOCHS, optimizer=optimizer, model=model,\n",
    "      loss_fn=loss_fn, train_loader=train_loader)\n",
    "calculate_accuracy(model, train_loader, test_loader)"
   ]
  },
  {
   "cell_type": "markdown",
   "id": "38cfbda5-c95f-46ef-a9a2-4b1676ef5623",
   "metadata": {},
   "source": [
    "**Adam**"
   ]
  },
  {
   "cell_type": "code",
   "execution_count": 22,
   "id": "22ea5d76-bb7f-442c-8d84-b76e96b1f261",
   "metadata": {},
   "outputs": [
    {
     "name": "stdout",
     "output_type": "stream",
     "text": [
      "2024-12-27 08:26:27.388833 Epoch 1, Training loss 2.0096703776605427\n",
      "2024-12-27 08:27:10.112766 Epoch 2, Training loss 1.2805144143104554\n",
      "2024-12-27 08:27:52.789318 Epoch 3, Training loss 0.9999506863355636\n",
      "2024-12-27 08:28:35.464893 Epoch 4, Training loss 0.8496742109060288\n",
      "2024-12-27 08:29:18.116056 Epoch 5, Training loss 0.7380919264554977\n",
      "2024-12-27 08:30:00.781509 Epoch 6, Training loss 0.6429173493981362\n",
      "2024-12-27 08:30:43.505143 Epoch 7, Training loss 0.5645195926427842\n",
      "2024-12-27 08:31:26.074909 Epoch 8, Training loss 0.47160966649651526\n",
      "2024-12-27 08:32:08.684066 Epoch 9, Training loss 0.40327101328969\n",
      "2024-12-27 08:32:51.335693 Epoch 10, Training loss 0.34618036714196204\n",
      "2024-12-27 08:33:33.910905 Epoch 11, Training loss 0.28865102064609527\n",
      "2024-12-27 08:34:16.569229 Epoch 12, Training loss 0.2504079294204712\n",
      "2024-12-27 08:34:59.229089 Epoch 13, Training loss 0.19812865860760212\n",
      "2024-12-27 08:35:41.838836 Epoch 14, Training loss 0.17374683013558387\n",
      "2024-12-27 08:36:24.453321 Epoch 15, Training loss 0.15482490034401417\n",
      "2024-12-27 08:37:07.124327 Epoch 16, Training loss 0.12993796578794717\n",
      "2024-12-27 08:37:49.675992 Epoch 17, Training loss 0.12513432798534632\n",
      "2024-12-27 08:38:32.228359 Epoch 18, Training loss 0.11017545704171061\n",
      "2024-12-27 08:39:14.863031 Epoch 19, Training loss 0.12141886206902563\n",
      "2024-12-27 08:39:57.458298 Epoch 20, Training loss 0.09396888165920973\n",
      "Accuracy train: 0.976\n",
      "Accuracy test: 0.742\n"
     ]
    },
    {
     "data": {
      "text/plain": [
       "{'train': 0.97606, 'test': 0.7418}"
      ]
     },
     "execution_count": 22,
     "metadata": {},
     "output_type": "execute_result"
    }
   ],
   "source": [
    "optimizer = optim.Adam(model.parameters(), lr=1e-2)\n",
    "train(n_epochs=EPOCHS, optimizer=optimizer, model=model,\n",
    "      loss_fn=loss_fn, train_loader=train_loader)\n",
    "calculate_accuracy(model, train_loader, test_loader)"
   ]
  }
 ],
 "metadata": {
  "kernelspec": {
   "display_name": "nnhw5",
   "language": "python",
   "name": "nnhw5"
  },
  "language_info": {
   "codemirror_mode": {
    "name": "ipython",
    "version": 3
   },
   "file_extension": ".py",
   "mimetype": "text/x-python",
   "name": "python",
   "nbconvert_exporter": "python",
   "pygments_lexer": "ipython3",
   "version": "3.12.3"
  }
 },
 "nbformat": 4,
 "nbformat_minor": 5
}
