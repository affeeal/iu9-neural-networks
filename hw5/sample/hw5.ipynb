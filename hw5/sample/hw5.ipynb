{
 "cells": [
  {
   "cell_type": "code",
   "execution_count": 1,
   "id": "c42b6997-f62e-42ca-90ad-4c9cf8ed7649",
   "metadata": {},
   "outputs": [],
   "source": [
    "import datetime\n",
    "import torch\n",
    "import torch.nn as nn\n",
    "import torch.optim as optim\n",
    "import torch.nn.functional as functional\n",
    "\n",
    "from torchvision import datasets, transforms"
   ]
  },
  {
   "cell_type": "code",
   "execution_count": 2,
   "id": "6f3e1570-fcb7-47e4-923b-0e51330060bb",
   "metadata": {},
   "outputs": [],
   "source": [
    "DATA_PATH = '../datasets/'\n",
    "BATCH_SIZE = 100\n",
    "MOMENTUM = 0.9\n",
    "EPOCHS = 20"
   ]
  },
  {
   "cell_type": "code",
   "execution_count": 3,
   "id": "87b99753-cc7a-4794-9c32-a2b25ad2ca5c",
   "metadata": {},
   "outputs": [],
   "source": [
    "def train(n_epochs, optimizer, model, loss_fn, train_loader):\n",
    "    for epoch in range(1, n_epochs + 1):\n",
    "        loss_train = 0.0\n",
    "        for imgs, labels in train_loader:\n",
    "            imgs = imgs.to(device=device)\n",
    "            labels = labels.to(device=device)\n",
    "            outputs = model(imgs)\n",
    "            loss = loss_fn(outputs, labels)\n",
    "\n",
    "            optimizer.zero_grad()\n",
    "            loss.backward()\n",
    "            optimizer.step()\n",
    "\n",
    "            loss_train += loss.item()\n",
    "\n",
    "        print('{} Epoch {}, Training loss {}'.format(\n",
    "            datetime.datetime.now(), epoch,\n",
    "            loss_train / len(train_loader)))\n",
    "\n",
    "\n",
    "def calculate_accuracy(model, train_loader, test_loader):\n",
    "    accdict = {}\n",
    "    for name, loader in [(\"train\", train_loader), (\"test\", test_loader)]:\n",
    "        correct = 0\n",
    "        total = 0\n",
    "\n",
    "        with torch.no_grad():\n",
    "            for imgs, labels in loader:\n",
    "                imgs = imgs.to(device=device)\n",
    "                labels = labels.to(device=device)\n",
    "                outputs = model(imgs)\n",
    "                _, predicted = torch.max(outputs, dim=1)\n",
    "                total += labels.shape[0]\n",
    "                correct += int((predicted == labels).sum())\n",
    "\n",
    "        print(\"Accuracy {}: {:.3f}\".format(name, correct / total))\n",
    "        accdict[name] = correct / total\n",
    "    return accdict"
   ]
  },
  {
   "cell_type": "code",
   "execution_count": 4,
   "id": "3123d610-6e74-49e0-8759-cf68598862a2",
   "metadata": {},
   "outputs": [
    {
     "data": {
      "text/plain": [
       "device(type='cuda')"
      ]
     },
     "execution_count": 4,
     "metadata": {},
     "output_type": "execute_result"
    }
   ],
   "source": [
    "loss_fn = nn.CrossEntropyLoss()\n",
    "device = (torch.device('cuda') if torch.cuda.is_available()\n",
    "          else torch.device('cpu'))\n",
    "device"
   ]
  },
  {
   "cell_type": "code",
   "execution_count": 5,
   "id": "477ac5f1-6d7e-4723-94bd-f10d366ce4f3",
   "metadata": {},
   "outputs": [],
   "source": [
    "mnist_train = datasets.MNIST(\n",
    "    DATA_PATH, train=True, download=True, transform=transforms.ToTensor())\n",
    "mnist_test = datasets.MNIST(\n",
    "    DATA_PATH, train=False, download=True, transform=transforms.ToTensor())"
   ]
  },
  {
   "cell_type": "code",
   "execution_count": 6,
   "id": "9574c794-5c54-48f3-826a-b5a9d0c78133",
   "metadata": {},
   "outputs": [
    {
     "name": "stdout",
     "output_type": "stream",
     "text": [
      "Files already downloaded and verified\n",
      "Files already downloaded and verified\n"
     ]
    }
   ],
   "source": [
    "cifar10_train = datasets.CIFAR10(\n",
    "    DATA_PATH, train=True, download=True, transform=transforms.ToTensor())\n",
    "cifar10_test = datasets.CIFAR10(\n",
    "    DATA_PATH, train=False, download=True, transform=transforms.ToTensor())"
   ]
  },
  {
   "cell_type": "markdown",
   "id": "e7265d53-e230-4658-98c7-f8102699db74",
   "metadata": {},
   "source": [
    "### LeNet, MNIST"
   ]
  },
  {
   "cell_type": "code",
   "execution_count": 7,
   "id": "f890eed1-97c2-4cb2-9d9a-a456dc54eacb",
   "metadata": {},
   "outputs": [],
   "source": [
    "class LeNet(nn.Module):\n",
    "    def __init__(self):\n",
    "        super().__init__()\n",
    "        self.conv1 = nn.Conv2d(1, 6, kernel_size=5, padding=2)\n",
    "        self.conv2 = nn.Conv2d(6, 16, kernel_size=5)\n",
    "        self.fc1 = nn.Linear(16 * 5 * 5, 120)\n",
    "        self.fc2 = nn.Linear(120, 84)\n",
    "        self.fc3 = nn.Linear(84, 10)\n",
    "\n",
    "    def forward(self, x):\n",
    "        out = functional.max_pool2d(torch.relu(self.conv1(x)), 2)\n",
    "        out = functional.max_pool2d(torch.relu(self.conv2(out)), 2)\n",
    "        out = out.view(-1, 16 * 5 * 5)\n",
    "        out = torch.tanh(self.fc1(out))\n",
    "        out = torch.tanh(self.fc2(out))\n",
    "        out = self.fc3(out)\n",
    "        return out"
   ]
  },
  {
   "cell_type": "code",
   "execution_count": 8,
   "id": "1562a998-a904-4f71-96f4-1e8f6b02ac4e",
   "metadata": {},
   "outputs": [],
   "source": [
    "model = LeNet().to(device=device)\n",
    "train_loader = torch.utils.data.DataLoader(\n",
    "    mnist_train, batch_size=BATCH_SIZE, shuffle=True)\n",
    "test_loader = torch.utils.data.DataLoader(\n",
    "    mnist_test, batch_size=BATCH_SIZE, shuffle=True)"
   ]
  },
  {
   "cell_type": "markdown",
   "id": "e5a20f25-b614-4ecc-845c-3869ac27c88a",
   "metadata": {},
   "source": [
    "**SGD**"
   ]
  },
  {
   "cell_type": "code",
   "execution_count": 9,
   "id": "6c9ce80d-f78e-4806-90bb-c593d7c6e87b",
   "metadata": {},
   "outputs": [
    {
     "name": "stdout",
     "output_type": "stream",
     "text": [
      "2024-12-26 08:13:20.581924 Epoch 1, Training loss 2.276938224633535\n",
      "2024-12-26 08:13:26.627528 Epoch 2, Training loss 1.1631027681132158\n",
      "2024-12-26 08:13:32.945105 Epoch 3, Training loss 0.39932225505510965\n",
      "2024-12-26 08:13:39.018924 Epoch 4, Training loss 0.26489552290489277\n",
      "2024-12-26 08:13:44.808644 Epoch 5, Training loss 0.20278167814016343\n",
      "2024-12-26 08:13:50.754194 Epoch 6, Training loss 0.1656926867303749\n",
      "2024-12-26 08:13:56.592733 Epoch 7, Training loss 0.14115072692433994\n",
      "2024-12-26 08:14:02.668240 Epoch 8, Training loss 0.12361197590517502\n",
      "2024-12-26 08:14:09.077670 Epoch 9, Training loss 0.1108416389580816\n",
      "2024-12-26 08:14:15.295437 Epoch 10, Training loss 0.10060321598934631\n",
      "2024-12-26 08:14:22.146360 Epoch 11, Training loss 0.09229257516562939\n",
      "2024-12-26 08:14:28.009884 Epoch 12, Training loss 0.08563395408292611\n",
      "2024-12-26 08:14:34.067016 Epoch 13, Training loss 0.08017338744985561\n",
      "2024-12-26 08:14:40.146595 Epoch 14, Training loss 0.07517853382974864\n",
      "2024-12-26 08:14:46.364259 Epoch 15, Training loss 0.07078967742932339\n",
      "2024-12-26 08:14:52.369815 Epoch 16, Training loss 0.06660168464528397\n",
      "2024-12-26 08:14:58.129494 Epoch 17, Training loss 0.06354612617753447\n",
      "2024-12-26 08:15:04.248946 Epoch 18, Training loss 0.060639223949983716\n",
      "2024-12-26 08:15:10.241605 Epoch 19, Training loss 0.057446693003488085\n",
      "2024-12-26 08:15:16.123906 Epoch 20, Training loss 0.054743802313071986\n",
      "Accuracy train: 0.985\n",
      "Accuracy test: 0.980\n"
     ]
    },
    {
     "data": {
      "text/plain": [
       "{'train': 0.9850833333333333, 'test': 0.98}"
      ]
     },
     "execution_count": 9,
     "metadata": {},
     "output_type": "execute_result"
    }
   ],
   "source": [
    "optimizer = optim.SGD(model.parameters(), lr=1e-2)\n",
    "train(n_epochs=EPOCHS, optimizer=optimizer, model=model,\n",
    "      loss_fn=loss_fn, train_loader=train_loader)\n",
    "calculate_accuracy(model, train_loader, test_loader)"
   ]
  },
  {
   "cell_type": "markdown",
   "id": "d3fc22a7-409b-44ce-9edd-b8dfa21d3355",
   "metadata": {},
   "source": [
    "**Adadelta**"
   ]
  },
  {
   "cell_type": "code",
   "execution_count": 10,
   "id": "b5a7dfbe-ceb5-428a-8d08-5b78ef677e18",
   "metadata": {},
   "outputs": [
    {
     "name": "stdout",
     "output_type": "stream",
     "text": [
      "2024-12-26 08:15:28.198869 Epoch 1, Training loss 0.04960355846909806\n",
      "2024-12-26 08:15:34.391344 Epoch 2, Training loss 0.04829390860628337\n",
      "2024-12-26 08:15:40.797905 Epoch 3, Training loss 0.047366416196649275\n",
      "2024-12-26 08:15:46.780371 Epoch 4, Training loss 0.04657051068653042\n",
      "2024-12-26 08:15:52.630566 Epoch 5, Training loss 0.04581610673262427\n",
      "2024-12-26 08:15:58.558954 Epoch 6, Training loss 0.045076508945785465\n",
      "2024-12-26 08:16:04.354194 Epoch 7, Training loss 0.04435825238237157\n",
      "2024-12-26 08:16:10.155746 Epoch 8, Training loss 0.043641508157985905\n",
      "2024-12-26 08:16:16.346295 Epoch 9, Training loss 0.042999777543203284\n",
      "2024-12-26 08:16:22.247407 Epoch 10, Training loss 0.042249247402263185\n",
      "2024-12-26 08:16:27.986949 Epoch 11, Training loss 0.04172372637549415\n",
      "2024-12-26 08:16:33.767577 Epoch 12, Training loss 0.04111467192104707\n",
      "2024-12-26 08:16:39.662801 Epoch 13, Training loss 0.040542408785937976\n",
      "2024-12-26 08:16:45.471972 Epoch 14, Training loss 0.03997549627286692\n",
      "2024-12-26 08:16:51.228571 Epoch 15, Training loss 0.03940971703928275\n",
      "2024-12-26 08:16:56.962787 Epoch 16, Training loss 0.038870883070242904\n",
      "2024-12-26 08:17:02.831024 Epoch 17, Training loss 0.03833888143495036\n",
      "2024-12-26 08:17:08.686743 Epoch 18, Training loss 0.03787843276746571\n",
      "2024-12-26 08:17:14.389621 Epoch 19, Training loss 0.037365107607717316\n",
      "2024-12-26 08:17:20.130769 Epoch 20, Training loss 0.03689847174566239\n",
      "Accuracy train: 0.990\n",
      "Accuracy test: 0.985\n"
     ]
    },
    {
     "data": {
      "text/plain": [
       "{'train': 0.9904166666666666, 'test': 0.9853}"
      ]
     },
     "execution_count": 10,
     "metadata": {},
     "output_type": "execute_result"
    }
   ],
   "source": [
    "optimizer = optim.Adadelta(model.parameters(), lr=1e-2)\n",
    "train(n_epochs=EPOCHS, optimizer=optimizer, model=model,\n",
    "      loss_fn=loss_fn, train_loader=train_loader)\n",
    "calculate_accuracy(model, train_loader, test_loader)"
   ]
  },
  {
   "cell_type": "markdown",
   "id": "d1ce4ffb-fd3c-4cf7-9afa-65e322fa2b34",
   "metadata": {},
   "source": [
    "**NAG**"
   ]
  },
  {
   "cell_type": "code",
   "execution_count": 11,
   "id": "9b067ee4-a6bf-4cd6-b0b7-78a53ddb341f",
   "metadata": {},
   "outputs": [
    {
     "name": "stdout",
     "output_type": "stream",
     "text": [
      "2024-12-26 08:17:31.703078 Epoch 1, Training loss 0.06964853660979618\n",
      "2024-12-26 08:17:37.748810 Epoch 2, Training loss 0.049897559319312376\n",
      "2024-12-26 08:17:43.760447 Epoch 3, Training loss 0.04047720941094061\n",
      "2024-12-26 08:17:49.538135 Epoch 4, Training loss 0.03361775763876115\n",
      "2024-12-26 08:17:55.321488 Epoch 5, Training loss 0.028085828527497747\n",
      "2024-12-26 08:18:01.289329 Epoch 6, Training loss 0.02278367590760657\n",
      "2024-12-26 08:18:07.645114 Epoch 7, Training loss 0.019558110081707127\n",
      "2024-12-26 08:18:13.650253 Epoch 8, Training loss 0.01661251410279268\n",
      "2024-12-26 08:18:19.592713 Epoch 9, Training loss 0.014719425882018793\n",
      "2024-12-26 08:18:25.619131 Epoch 10, Training loss 0.011715772923198529\n",
      "2024-12-26 08:18:31.605980 Epoch 11, Training loss 0.0102217508504206\n",
      "2024-12-26 08:18:37.572838 Epoch 12, Training loss 0.008248848584771621\n",
      "2024-12-26 08:18:43.615405 Epoch 13, Training loss 0.006561602674143311\n",
      "2024-12-26 08:18:49.526835 Epoch 14, Training loss 0.005262437969310365\n",
      "2024-12-26 08:18:55.189201 Epoch 15, Training loss 0.004344139601889765\n",
      "2024-12-26 08:19:01.023253 Epoch 16, Training loss 0.0034982190456745834\n",
      "2024-12-26 08:19:07.059774 Epoch 17, Training loss 0.0028860144247543455\n",
      "2024-12-26 08:19:13.000474 Epoch 18, Training loss 0.0025516617901303108\n",
      "2024-12-26 08:19:18.866264 Epoch 19, Training loss 0.00208951710522039\n",
      "2024-12-26 08:19:24.706252 Epoch 20, Training loss 0.0018214661593325824\n",
      "Accuracy train: 1.000\n",
      "Accuracy test: 0.991\n"
     ]
    },
    {
     "data": {
      "text/plain": [
       "{'train': 0.9999833333333333, 'test': 0.9906}"
      ]
     },
     "execution_count": 11,
     "metadata": {},
     "output_type": "execute_result"
    }
   ],
   "source": [
    "optimizer = optim.SGD(model.parameters(), lr=1e-2,\n",
    "                      momentum=MOMENTUM, nesterov=True)\n",
    "train(n_epochs=EPOCHS, optimizer=optimizer, model=model,\n",
    "      loss_fn=loss_fn, train_loader=train_loader)\n",
    "calculate_accuracy(model, train_loader, test_loader)"
   ]
  },
  {
   "cell_type": "markdown",
   "id": "e61c60d7-8810-4084-91df-dade3529e222",
   "metadata": {},
   "source": [
    "**Adam**"
   ]
  },
  {
   "cell_type": "code",
   "execution_count": 12,
   "id": "f7383cde-1617-4812-9d19-69ecec765afd",
   "metadata": {},
   "outputs": [
    {
     "name": "stdout",
     "output_type": "stream",
     "text": [
      "2024-12-26 08:19:36.512101 Epoch 1, Training loss 0.0323631153270253\n",
      "2024-12-26 08:19:43.053631 Epoch 2, Training loss 0.02537921016589583\n",
      "2024-12-26 08:19:49.288710 Epoch 3, Training loss 0.021104802537932604\n",
      "2024-12-26 08:19:55.389502 Epoch 4, Training loss 0.019093650427773053\n",
      "2024-12-26 08:20:01.341908 Epoch 5, Training loss 0.01346805975146708\n",
      "2024-12-26 08:20:07.282793 Epoch 6, Training loss 0.013038066118145555\n",
      "2024-12-26 08:20:13.492932 Epoch 7, Training loss 0.013758047778489223\n",
      "2024-12-26 08:20:19.642327 Epoch 8, Training loss 0.011388000254385891\n",
      "2024-12-26 08:20:25.662690 Epoch 9, Training loss 0.012107427830123925\n",
      "2024-12-26 08:20:31.949977 Epoch 10, Training loss 0.010359086387082547\n",
      "2024-12-26 08:20:38.166003 Epoch 11, Training loss 0.007441450822346572\n",
      "2024-12-26 08:20:44.420340 Epoch 12, Training loss 0.007820859958919756\n",
      "2024-12-26 08:20:50.891369 Epoch 13, Training loss 0.006391670997181791\n",
      "2024-12-26 08:20:57.202230 Epoch 14, Training loss 0.006589637215286833\n",
      "2024-12-26 08:21:03.412982 Epoch 15, Training loss 0.0071982482617174055\n",
      "2024-12-26 08:21:09.416119 Epoch 16, Training loss 0.00573190937473252\n",
      "2024-12-26 08:21:15.378340 Epoch 17, Training loss 0.007969505232173713\n",
      "2024-12-26 08:21:21.520595 Epoch 18, Training loss 0.0054967509264285275\n",
      "2024-12-26 08:21:27.595101 Epoch 19, Training loss 0.007518219024577774\n",
      "2024-12-26 08:21:33.673410 Epoch 20, Training loss 0.00535588234682109\n",
      "Accuracy train: 0.998\n",
      "Accuracy test: 0.989\n"
     ]
    },
    {
     "data": {
      "text/plain": [
       "{'train': 0.9982666666666666, 'test': 0.9885}"
      ]
     },
     "execution_count": 12,
     "metadata": {},
     "output_type": "execute_result"
    }
   ],
   "source": [
    "optimizer = optim.Adam(model.parameters(), lr=1e-3)\n",
    "train(n_epochs=EPOCHS, optimizer=optimizer, model=model,\n",
    "      loss_fn=loss_fn, train_loader=train_loader)\n",
    "calculate_accuracy(model, train_loader, test_loader)"
   ]
  },
  {
   "cell_type": "markdown",
   "id": "5c7a7f95-555e-4155-a05e-9c3c0f9b2040",
   "metadata": {},
   "source": [
    "| Optimizer | Epochs | Learning rate | Accuracy (test) |\n",
    "| --------  | ------ | ------------- | --------------- |\n",
    "| SGD       | 20     | 1e-2          | 0.981           |\n",
    "| Adadelta  | 20     | 1e-2          | 0.986           |  \n",
    "| NAG       | 20     | 1e-2          | 0.990           |\n",
    "| Adam      | 20     | 1e-3          | 0.990           |"
   ]
  },
  {
   "cell_type": "markdown",
   "id": "1fd1abdb-d7b9-4fff-a48e-19fc63aabbf7",
   "metadata": {},
   "source": [
    "### VGG16, CIFAR10"
   ]
  },
  {
   "cell_type": "code",
   "execution_count": 13,
   "id": "f7142d07-0759-4149-9faa-21b183e4aa7e",
   "metadata": {},
   "outputs": [],
   "source": [
    "class VGG16(nn.Module):\n",
    "    def __init__(self, dropout_p):\n",
    "        super().__init__()\n",
    "        self.conv11 = nn.Conv2d(3, 128, kernel_size=3, padding=1)\n",
    "        self.conv12 = nn.Conv2d(128, 128, kernel_size=3, padding=1)\n",
    "        self.conv21 = nn.Conv2d(128, 256, kernel_size=3, padding=1)\n",
    "        self.conv22 = nn.Conv2d(256, 256, kernel_size=3, padding=1)\n",
    "        self.conv31 = nn.Conv2d(256, 512, kernel_size=3, padding=1)\n",
    "        self.conv32 = nn.Conv2d(512, 512, kernel_size=3, padding=1)\n",
    "        self.fc1 = nn.Linear(512 * 4 * 4, 1024)\n",
    "        self.fc1_dropout = nn.Dropout(p=dropout_p)\n",
    "        self.fc2 = nn.Linear(1024, 1024)\n",
    "        self.fc2_dropout = nn.Dropout(p=dropout_p)\n",
    "        self.fc3 = nn.Linear(1024, 10)\n",
    "\n",
    "    def forward(self, x):\n",
    "        out = torch.relu(self.conv11(x))     # 3 x 32 x 32   -> 128 x 32 x 32\n",
    "        out = torch.relu(self.conv12(out))   # 128 x 32 x 32 -> 128 x32 x 32\n",
    "        out = functional.max_pool2d(out, 2)  # 128 x 32 x 32 -> 128 x 16 x 16\n",
    "        out = torch.relu(self.conv21(out))   # 128 x 16 x 16 -> 256 x 16 x 16\n",
    "        out = torch.relu(self.conv22(out))   # 256 x 16 x 16 -> 256 x 16 x 16\n",
    "        out = functional.max_pool2d(out, 2)  # 256 x 16 x 16 -> 256 x 8 x 8\n",
    "        out = torch.relu(self.conv31(out))   # 256 x 8 x 8   -> 512 x 8 x 8\n",
    "        out = torch.relu(self.conv32(out))   # 512 x 8 x 8   -> 512 x 8 x 8\n",
    "        out = functional.max_pool2d(out, 2)  # 512 x 8 x 8   -> 512 x 4 x 4\n",
    "        out = out.view(-1, 512 * 4 * 4)\n",
    "        out = torch.relu(self.fc1(out))      # 512 x 4 x 4 -> 1024\n",
    "        out = self.fc1_dropout(out)\n",
    "        out = torch.relu(self.fc2(out))      # 1024 -> 1024\n",
    "        out = self.fc2_dropout(out)\n",
    "        out = self.fc3(out)                  # 1024 -> 10\n",
    "        return out"
   ]
  },
  {
   "cell_type": "code",
   "execution_count": 14,
   "id": "ff746d60-8d1c-45cd-8cbc-1766f5394267",
   "metadata": {},
   "outputs": [],
   "source": [
    "model = VGG16(dropout_p=0.4).to(device=device)\n",
    "train_loader = torch.utils.data.DataLoader(\n",
    "    cifar10_train, batch_size=BATCH_SIZE, shuffle=True)\n",
    "test_loader = torch.utils.data.DataLoader(\n",
    "    cifar10_test, batch_size=BATCH_SIZE, shuffle=True)"
   ]
  },
  {
   "cell_type": "markdown",
   "id": "f45535e7-51ef-4659-ba0b-34a5bdb13d48",
   "metadata": {},
   "source": [
    "**SGD**"
   ]
  },
  {
   "cell_type": "code",
   "execution_count": 15,
   "id": "5bc0115f-2e19-46bb-8af0-635b964e0151",
   "metadata": {},
   "outputs": [
    {
     "name": "stdout",
     "output_type": "stream",
     "text": [
      "2024-12-26 08:22:25.196666 Epoch 1, Training loss 2.3028539319038392\n",
      "2024-12-26 08:23:11.712005 Epoch 2, Training loss 2.296835040092468\n",
      "2024-12-26 08:23:58.653550 Epoch 3, Training loss 2.267014611721039\n",
      "2024-12-26 08:24:45.559300 Epoch 4, Training loss 2.0661916205883024\n",
      "2024-12-26 08:25:31.281106 Epoch 5, Training loss 1.8112792677879332\n",
      "2024-12-26 08:26:17.066253 Epoch 6, Training loss 1.60315660071373\n",
      "2024-12-26 08:27:03.240924 Epoch 7, Training loss 1.3987265512943268\n",
      "2024-12-26 08:27:49.075935 Epoch 8, Training loss 1.1913824157714843\n",
      "2024-12-26 08:28:34.879118 Epoch 9, Training loss 1.0195326380729675\n",
      "2024-12-26 08:29:20.679660 Epoch 10, Training loss 0.8745715825557708\n",
      "2024-12-26 08:30:06.541475 Epoch 11, Training loss 0.7405826632976532\n",
      "2024-12-26 08:30:53.917452 Epoch 12, Training loss 0.6213848806619644\n",
      "2024-12-26 08:31:39.889440 Epoch 13, Training loss 0.5191734665632248\n",
      "2024-12-26 08:32:25.716378 Epoch 14, Training loss 0.4214385597705841\n",
      "2024-12-26 08:33:11.560023 Epoch 15, Training loss 0.32446989518404007\n",
      "2024-12-26 08:33:57.356137 Epoch 16, Training loss 0.2476592226922512\n",
      "2024-12-26 08:34:43.057039 Epoch 17, Training loss 0.19373283039033412\n",
      "2024-12-26 08:35:28.787380 Epoch 18, Training loss 0.1495524284057319\n",
      "2024-12-26 08:36:14.538079 Epoch 19, Training loss 0.12163633688539266\n",
      "2024-12-26 08:37:00.248530 Epoch 20, Training loss 0.10663187887892127\n",
      "Accuracy train: 0.983\n",
      "Accuracy test: 0.780\n"
     ]
    },
    {
     "data": {
      "text/plain": [
       "{'train': 0.98256, 'test': 0.7803}"
      ]
     },
     "execution_count": 15,
     "metadata": {},
     "output_type": "execute_result"
    }
   ],
   "source": [
    "optimizer = optim.SGD(model.parameters(), lr=1e-1)\n",
    "train(n_epochs=EPOCHS, optimizer=optimizer, model=model,\n",
    "      loss_fn=loss_fn, train_loader=train_loader)\n",
    "calculate_accuracy(model, train_loader, test_loader)"
   ]
  },
  {
   "cell_type": "markdown",
   "id": "22f782c9-8df9-479a-97b9-cb05c73c8793",
   "metadata": {},
   "source": [
    "**Adadelta**"
   ]
  },
  {
   "cell_type": "code",
   "execution_count": 16,
   "id": "256f1be7-370e-4a9c-8f5d-bcfff817f2e4",
   "metadata": {},
   "outputs": [
    {
     "name": "stdout",
     "output_type": "stream",
     "text": [
      "2024-12-26 08:38:14.851763 Epoch 1, Training loss 0.03297575830109417\n",
      "2024-12-26 08:39:04.360485 Epoch 2, Training loss 0.021022967101132963\n",
      "2024-12-26 08:39:53.967982 Epoch 3, Training loss 0.013720194828259992\n",
      "2024-12-26 08:40:43.649051 Epoch 4, Training loss 0.011445752762781921\n",
      "2024-12-26 08:41:33.247102 Epoch 5, Training loss 0.010177779191813898\n",
      "2024-12-26 08:42:22.888684 Epoch 6, Training loss 0.009154703930675169\n",
      "2024-12-26 08:43:12.510709 Epoch 7, Training loss 0.00784739794989582\n",
      "2024-12-26 08:44:02.209933 Epoch 8, Training loss 0.007509752997120814\n",
      "2024-12-26 08:44:51.838453 Epoch 9, Training loss 0.006772421129848226\n",
      "2024-12-26 08:45:41.567886 Epoch 10, Training loss 0.009229511368524982\n",
      "2024-12-26 08:46:31.239815 Epoch 11, Training loss 0.007513171138441976\n",
      "2024-12-26 08:47:20.790808 Epoch 12, Training loss 0.006206588208439825\n",
      "2024-12-26 08:48:10.239790 Epoch 13, Training loss 0.00581864067404058\n",
      "2024-12-26 08:48:59.805371 Epoch 14, Training loss 0.006599108374612115\n",
      "2024-12-26 08:49:49.327825 Epoch 15, Training loss 0.00553292729864188\n",
      "2024-12-26 08:50:38.966276 Epoch 16, Training loss 0.004695143128155905\n",
      "2024-12-26 08:51:28.586023 Epoch 17, Training loss 0.005571371043899489\n",
      "2024-12-26 08:52:18.119267 Epoch 18, Training loss 0.005428426087377829\n",
      "2024-12-26 08:53:07.642293 Epoch 19, Training loss 0.005478852390216616\n",
      "2024-12-26 08:53:57.267847 Epoch 20, Training loss 0.0037621807512127816\n",
      "Accuracy train: 0.999\n",
      "Accuracy test: 0.797\n"
     ]
    },
    {
     "data": {
      "text/plain": [
       "{'train': 0.99866, 'test': 0.7968}"
      ]
     },
     "execution_count": 16,
     "metadata": {},
     "output_type": "execute_result"
    }
   ],
   "source": [
    "optimizer = optim.Adadelta(model.parameters(), lr=1e-1)\n",
    "train(n_epochs=EPOCHS, optimizer=optimizer, model=model,\n",
    "      loss_fn=loss_fn, train_loader=train_loader)\n",
    "calculate_accuracy(model, train_loader, test_loader)"
   ]
  },
  {
   "cell_type": "markdown",
   "id": "7a29208f-b130-4382-a400-93c0a1c42b4c",
   "metadata": {},
   "source": [
    "**NAG**"
   ]
  },
  {
   "cell_type": "code",
   "execution_count": 17,
   "id": "9c425176-5edb-4fe5-9801-9d1894007041",
   "metadata": {},
   "outputs": [
    {
     "name": "stdout",
     "output_type": "stream",
     "text": [
      "2024-12-26 08:55:08.938122 Epoch 1, Training loss 0.0019071426413001973\n",
      "2024-12-26 08:55:55.987443 Epoch 2, Training loss 0.0016463169206604106\n",
      "2024-12-26 08:56:43.022090 Epoch 3, Training loss 0.0010902917907933442\n",
      "2024-12-26 08:57:30.055482 Epoch 4, Training loss 0.0009569177530449906\n",
      "2024-12-26 08:58:17.105728 Epoch 5, Training loss 0.0009727753662818941\n",
      "2024-12-26 08:59:04.113517 Epoch 6, Training loss 0.0010030303802368507\n",
      "2024-12-26 08:59:51.105327 Epoch 7, Training loss 0.0006386276791116643\n",
      "2024-12-26 09:00:38.088887 Epoch 8, Training loss 0.0005571369862813639\n",
      "2024-12-26 09:01:24.992995 Epoch 9, Training loss 0.0007281336642593032\n",
      "2024-12-26 09:02:11.882607 Epoch 10, Training loss 0.0006397370681983148\n",
      "2024-12-26 09:02:58.746065 Epoch 11, Training loss 0.0007244740190581069\n",
      "2024-12-26 09:03:45.634915 Epoch 12, Training loss 0.0004910186269695487\n",
      "2024-12-26 09:04:32.584037 Epoch 13, Training loss 0.0007263162776123408\n",
      "2024-12-26 09:05:19.560412 Epoch 14, Training loss 0.0007747930982129105\n",
      "2024-12-26 09:06:06.509241 Epoch 15, Training loss 0.0006173565068618245\n",
      "2024-12-26 09:06:53.517126 Epoch 16, Training loss 0.0004436782445228573\n",
      "2024-12-26 09:07:40.557815 Epoch 17, Training loss 0.0006196920340573797\n",
      "2024-12-26 09:08:27.457697 Epoch 18, Training loss 0.0004900790526713763\n",
      "2024-12-26 09:09:14.533061 Epoch 19, Training loss 0.0004889071518014135\n",
      "2024-12-26 09:10:01.902403 Epoch 20, Training loss 0.000570292714110451\n",
      "Accuracy train: 1.000\n",
      "Accuracy test: 0.802\n"
     ]
    },
    {
     "data": {
      "text/plain": [
       "{'train': 0.99992, 'test': 0.8022}"
      ]
     },
     "execution_count": 17,
     "metadata": {},
     "output_type": "execute_result"
    }
   ],
   "source": [
    "optimizer = optim.SGD(model.parameters(), lr=1e-3,\n",
    "                      momentum=MOMENTUM, nesterov=True)\n",
    "train(n_epochs=EPOCHS, optimizer=optimizer, model=model,\n",
    "      loss_fn=loss_fn, train_loader=train_loader)\n",
    "calculate_accuracy(model, train_loader, test_loader)"
   ]
  },
  {
   "cell_type": "markdown",
   "id": "f54581de-3d42-4a8c-9d72-99eee83656e3",
   "metadata": {},
   "source": [
    "**Adam**"
   ]
  },
  {
   "cell_type": "code",
   "execution_count": 25,
   "id": "0a4a65ba-5fac-4b1b-9520-afade2d3ecc0",
   "metadata": {},
   "outputs": [
    {
     "name": "stdout",
     "output_type": "stream",
     "text": [
      "2024-12-26 09:49:19.821065 Epoch 1, Training loss 49.034860153198245\n",
      "2024-12-26 09:50:07.408478 Epoch 2, Training loss 48.15267549133301\n"
     ]
    },
    {
     "ename": "RuntimeError",
     "evalue": "CUDA error: unspecified launch failure\nCUDA kernel errors might be asynchronously reported at some other API call, so the stacktrace below might be incorrect.\nFor debugging consider passing CUDA_LAUNCH_BLOCKING=1\nCompile with `TORCH_USE_CUDA_DSA` to enable device-side assertions.\n",
     "output_type": "error",
     "traceback": [
      "\u001b[0;31m---------------------------------------------------------------------------\u001b[0m",
      "\u001b[0;31mRuntimeError\u001b[0m                              Traceback (most recent call last)",
      "Cell \u001b[0;32mIn[25], line 2\u001b[0m\n\u001b[1;32m      1\u001b[0m optimizer \u001b[38;5;241m=\u001b[39m optim\u001b[38;5;241m.\u001b[39mAdam(model\u001b[38;5;241m.\u001b[39mparameters(), lr\u001b[38;5;241m=\u001b[39m\u001b[38;5;241m1e-3\u001b[39m)\n\u001b[0;32m----> 2\u001b[0m \u001b[43mtrain\u001b[49m\u001b[43m(\u001b[49m\u001b[43mn_epochs\u001b[49m\u001b[38;5;241;43m=\u001b[39;49m\u001b[43mEPOCHS\u001b[49m\u001b[43m,\u001b[49m\u001b[43m \u001b[49m\u001b[43moptimizer\u001b[49m\u001b[38;5;241;43m=\u001b[39;49m\u001b[43moptimizer\u001b[49m\u001b[43m,\u001b[49m\u001b[43m \u001b[49m\u001b[43mmodel\u001b[49m\u001b[38;5;241;43m=\u001b[39;49m\u001b[43mmodel\u001b[49m\u001b[43m,\u001b[49m\n\u001b[1;32m      3\u001b[0m \u001b[43m      \u001b[49m\u001b[43mloss_fn\u001b[49m\u001b[38;5;241;43m=\u001b[39;49m\u001b[43mloss_fn\u001b[49m\u001b[43m,\u001b[49m\u001b[43m \u001b[49m\u001b[43mtrain_loader\u001b[49m\u001b[38;5;241;43m=\u001b[39;49m\u001b[43mtrain_loader\u001b[49m\u001b[43m)\u001b[49m\n\u001b[1;32m      4\u001b[0m calculate_accuracy(model, train_loader, test_loader)\n",
      "Cell \u001b[0;32mIn[3], line 14\u001b[0m, in \u001b[0;36mtrain\u001b[0;34m(n_epochs, optimizer, model, loss_fn, train_loader)\u001b[0m\n\u001b[1;32m     11\u001b[0m     loss\u001b[38;5;241m.\u001b[39mbackward()\n\u001b[1;32m     12\u001b[0m     optimizer\u001b[38;5;241m.\u001b[39mstep()\n\u001b[0;32m---> 14\u001b[0m     loss_train \u001b[38;5;241m+\u001b[39m\u001b[38;5;241m=\u001b[39m \u001b[43mloss\u001b[49m\u001b[38;5;241;43m.\u001b[39;49m\u001b[43mitem\u001b[49m\u001b[43m(\u001b[49m\u001b[43m)\u001b[49m\n\u001b[1;32m     16\u001b[0m \u001b[38;5;28mprint\u001b[39m(\u001b[38;5;124m'\u001b[39m\u001b[38;5;132;01m{}\u001b[39;00m\u001b[38;5;124m Epoch \u001b[39m\u001b[38;5;132;01m{}\u001b[39;00m\u001b[38;5;124m, Training loss \u001b[39m\u001b[38;5;132;01m{}\u001b[39;00m\u001b[38;5;124m'\u001b[39m\u001b[38;5;241m.\u001b[39mformat(\n\u001b[1;32m     17\u001b[0m     datetime\u001b[38;5;241m.\u001b[39mdatetime\u001b[38;5;241m.\u001b[39mnow(), epoch,\n\u001b[1;32m     18\u001b[0m     loss_train \u001b[38;5;241m/\u001b[39m \u001b[38;5;28mlen\u001b[39m(train_loader)))\n",
      "\u001b[0;31mRuntimeError\u001b[0m: CUDA error: unspecified launch failure\nCUDA kernel errors might be asynchronously reported at some other API call, so the stacktrace below might be incorrect.\nFor debugging consider passing CUDA_LAUNCH_BLOCKING=1\nCompile with `TORCH_USE_CUDA_DSA` to enable device-side assertions.\n"
     ]
    }
   ],
   "source": [
    "optimizer = optim.Adam(model.parameters(), lr=1e-3)\n",
    "train(n_epochs=EPOCHS, optimizer=optimizer, model=model,\n",
    "      loss_fn=loss_fn, train_loader=train_loader)\n",
    "calculate_accuracy(model, train_loader, test_loader)"
   ]
  },
  {
   "cell_type": "code",
   "execution_count": null,
   "id": "acc78c8b-a990-4bc1-9409-0867c851c77f",
   "metadata": {},
   "outputs": [],
   "source": []
  }
 ],
 "metadata": {
  "kernelspec": {
   "display_name": "nnhw5",
   "language": "python",
   "name": "nnhw5"
  },
  "language_info": {
   "codemirror_mode": {
    "name": "ipython",
    "version": 3
   },
   "file_extension": ".py",
   "mimetype": "text/x-python",
   "name": "python",
   "nbconvert_exporter": "python",
   "pygments_lexer": "ipython3",
   "version": "3.12.3"
  }
 },
 "nbformat": 4,
 "nbformat_minor": 5
}
