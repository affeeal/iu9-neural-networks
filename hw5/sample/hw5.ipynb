{
 "cells": [
  {
   "cell_type": "code",
   "execution_count": 1,
   "id": "c42b6997-f62e-42ca-90ad-4c9cf8ed7649",
   "metadata": {},
   "outputs": [],
   "source": [
    "import datetime\n",
    "import torch\n",
    "import torch.nn as nn\n",
    "import torch.optim as optim\n",
    "\n",
    "from torchvision import datasets, transforms, models"
   ]
  },
  {
   "cell_type": "code",
   "execution_count": 2,
   "id": "6f3e1570-fcb7-47e4-923b-0e51330060bb",
   "metadata": {},
   "outputs": [],
   "source": [
    "DATA_PATH = '../../datasets/'\n",
    "BATCH_SIZE = 100\n",
    "MOMENTUM = 0.9\n",
    "EPOCHS = 20"
   ]
  },
  {
   "cell_type": "code",
   "execution_count": 3,
   "id": "87b99753-cc7a-4794-9c32-a2b25ad2ca5c",
   "metadata": {},
   "outputs": [],
   "source": [
    "def train(n_epochs, optimizer, model, loss_fn, train_loader):\n",
    "    for epoch in range(1, n_epochs + 1):\n",
    "        loss_train = 0.0\n",
    "        for imgs, labels in train_loader:\n",
    "            imgs = imgs.to(device=device)\n",
    "            labels = labels.to(device=device)\n",
    "            outputs = model(imgs)\n",
    "            loss = loss_fn(outputs, labels)\n",
    "\n",
    "            optimizer.zero_grad()\n",
    "            loss.backward()\n",
    "            optimizer.step()\n",
    "\n",
    "            loss_train += loss.item()\n",
    "\n",
    "        print('{} Epoch {}, Training loss {}'.format(\n",
    "            datetime.datetime.now(), epoch,\n",
    "            loss_train / len(train_loader)))\n",
    "\n",
    "\n",
    "def calculate_accuracy(model, train_loader, test_loader):\n",
    "    accdict = {}\n",
    "    for name, loader in [(\"train\", train_loader), (\"test\", test_loader)]:\n",
    "        correct = 0\n",
    "        total = 0\n",
    "\n",
    "        with torch.no_grad():\n",
    "            for imgs, labels in loader:\n",
    "                imgs = imgs.to(device=device)\n",
    "                labels = labels.to(device=device)\n",
    "                outputs = model(imgs)\n",
    "                _, predicted = torch.max(outputs, dim=1)\n",
    "                total += labels.shape[0]\n",
    "                correct += int((predicted == labels).sum())\n",
    "\n",
    "        print(\"Accuracy {}: {:.3f}\".format(name, correct / total))\n",
    "        accdict[name] = correct / total\n",
    "    return accdict"
   ]
  },
  {
   "cell_type": "code",
   "execution_count": 4,
   "id": "3123d610-6e74-49e0-8759-cf68598862a2",
   "metadata": {},
   "outputs": [
    {
     "name": "stdout",
     "output_type": "stream",
     "text": [
      "Using cuda\n"
     ]
    }
   ],
   "source": [
    "device = (torch.device('cuda') if torch.cuda.is_available()\n",
    "          else torch.device('cpu'))\n",
    "print(f'Using {device}')\n",
    "loss_fn = nn.CrossEntropyLoss()"
   ]
  },
  {
   "cell_type": "code",
   "execution_count": 5,
   "id": "477ac5f1-6d7e-4723-94bd-f10d366ce4f3",
   "metadata": {},
   "outputs": [],
   "source": [
    "mnist_train = datasets.MNIST(\n",
    "    DATA_PATH, train=True, download=True, transform=transforms.Compose([\n",
    "        transforms.Resize((32, 32)),\n",
    "        transforms.ToTensor(),\n",
    "        transforms.Normalize(mean=(0.1307,), std=(0.3081,))]))\n",
    "mnist_test = datasets.MNIST(\n",
    "    DATA_PATH, train=False, download=True, transform=transforms.Compose([\n",
    "        transforms.Resize((32, 32)),\n",
    "        transforms.ToTensor(),\n",
    "        transforms.Normalize(mean=(0.1325,), std=(0.3105,))]))"
   ]
  },
  {
   "cell_type": "code",
   "execution_count": 6,
   "id": "9574c794-5c54-48f3-826a-b5a9d0c78133",
   "metadata": {},
   "outputs": [
    {
     "name": "stdout",
     "output_type": "stream",
     "text": [
      "Files already downloaded and verified\n",
      "Files already downloaded and verified\n"
     ]
    }
   ],
   "source": [
    "cifar10_train = datasets.CIFAR10(\n",
    "    DATA_PATH, train=True, download=True, transform=transforms.Compose([\n",
    "        transforms.ToTensor(),\n",
    "        transforms.Normalize((0.4915, 0.4823, 0.4468),\n",
    "                             (0.2470, 0.2435, 0.2616))\n",
    "    ]))\n",
    "cifar10_test = datasets.CIFAR10(\n",
    "    DATA_PATH, train=False, download=True, transform=transforms.Compose([\n",
    "        transforms.ToTensor(),\n",
    "        transforms.Normalize((0.4915, 0.4823, 0.4468),\n",
    "                             (0.2470, 0.2435, 0.2616))\n",
    "    ]))"
   ]
  },
  {
   "cell_type": "markdown",
   "id": "e7265d53-e230-4658-98c7-f8102699db74",
   "metadata": {},
   "source": [
    "### LeNet, MNIST"
   ]
  },
  {
   "cell_type": "code",
   "execution_count": 7,
   "id": "f890eed1-97c2-4cb2-9d9a-a456dc54eacb",
   "metadata": {},
   "outputs": [],
   "source": [
    "class LeNet5(nn.Module):\n",
    "    def __init__(self, num_classes):\n",
    "        super(LeNet5, self).__init__()\n",
    "        self.layer1 = nn.Sequential(\n",
    "            nn.Conv2d(1, 6, kernel_size=5, stride=1, padding=0),\n",
    "            nn.BatchNorm2d(6),\n",
    "            nn.ReLU(),\n",
    "            nn.MaxPool2d(kernel_size=2, stride=2))\n",
    "        self.layer2 = nn.Sequential(\n",
    "            nn.Conv2d(6, 16, kernel_size=5, stride=1, padding=0),\n",
    "            nn.BatchNorm2d(16),\n",
    "            nn.ReLU(),\n",
    "            nn.MaxPool2d(kernel_size=2, stride=2))\n",
    "        self.fc = nn.Linear(400, 120)\n",
    "        self.relu = nn.ReLU()\n",
    "        self.fc1 = nn.Linear(120, 84)\n",
    "        self.relu1 = nn.ReLU()\n",
    "        self.fc2 = nn.Linear(84, num_classes)\n",
    "\n",
    "    def forward(self, x):\n",
    "        out = self.layer1(x)\n",
    "        out = self.layer2(out)\n",
    "        out = out.reshape(out.size(0), -1)\n",
    "        out = self.fc(out)\n",
    "        out = self.relu(out)\n",
    "        out = self.fc1(out)\n",
    "        out = self.relu1(out)\n",
    "        out = self.fc2(out)\n",
    "        return out"
   ]
  },
  {
   "cell_type": "code",
   "execution_count": 8,
   "id": "1562a998-a904-4f71-96f4-1e8f6b02ac4e",
   "metadata": {},
   "outputs": [],
   "source": [
    "model = LeNet5(num_classes=10).to(device=device)\n",
    "train_loader = torch.utils.data.DataLoader(\n",
    "    mnist_train, batch_size=BATCH_SIZE, shuffle=True)\n",
    "test_loader = torch.utils.data.DataLoader(\n",
    "    mnist_test, batch_size=BATCH_SIZE, shuffle=True)"
   ]
  },
  {
   "cell_type": "markdown",
   "id": "e5a20f25-b614-4ecc-845c-3869ac27c88a",
   "metadata": {},
   "source": [
    "**SGD**"
   ]
  },
  {
   "cell_type": "code",
   "execution_count": null,
   "id": "6c9ce80d-f78e-4806-90bb-c593d7c6e87b",
   "metadata": {},
   "outputs": [
    {
     "name": "stdout",
     "output_type": "stream",
     "text": [
      "2024-12-27 03:43:18.701674 Epoch 1, Training loss 0.9385420573751132\n",
      "2024-12-27 03:43:30.978202 Epoch 2, Training loss 0.17531632191812\n",
      "2024-12-27 03:43:43.432280 Epoch 3, Training loss 0.11634739998107155\n",
      "2024-12-27 03:43:54.694734 Epoch 4, Training loss 0.09242940478647749\n",
      "2024-12-27 03:44:06.093473 Epoch 5, Training loss 0.07849007670767605\n",
      "2024-12-27 03:44:17.048328 Epoch 6, Training loss 0.06920792249497026\n",
      "2024-12-27 03:44:28.009229 Epoch 7, Training loss 0.06252937906887382\n",
      "2024-12-27 03:44:39.060079 Epoch 8, Training loss 0.057398481499403714\n",
      "2024-12-27 03:44:50.261755 Epoch 9, Training loss 0.052718457348334295\n",
      "2024-12-27 03:45:01.717590 Epoch 10, Training loss 0.04955120619619265\n"
     ]
    }
   ],
   "source": [
    "optimizer = optim.SGD(model.parameters(), lr=1e-2)\n",
    "train(n_epochs=EPOCHS, optimizer=optimizer, model=model,\n",
    "      loss_fn=loss_fn, train_loader=train_loader)\n",
    "calculate_accuracy(model, train_loader, test_loader)"
   ]
  },
  {
   "cell_type": "markdown",
   "id": "d3fc22a7-409b-44ce-9edd-b8dfa21d3355",
   "metadata": {},
   "source": [
    "**Adadelta**"
   ]
  },
  {
   "cell_type": "code",
   "execution_count": null,
   "id": "b5a7dfbe-ceb5-428a-8d08-5b78ef677e18",
   "metadata": {},
   "outputs": [],
   "source": [
    "optimizer = optim.Adadelta(model.parameters(), lr=1e-2)\n",
    "train(n_epochs=EPOCHS, optimizer=optimizer, model=model,\n",
    "      loss_fn=loss_fn, train_loader=train_loader)\n",
    "calculate_accuracy(model, train_loader, test_loader)"
   ]
  },
  {
   "cell_type": "markdown",
   "id": "d1ce4ffb-fd3c-4cf7-9afa-65e322fa2b34",
   "metadata": {},
   "source": [
    "**NAG**"
   ]
  },
  {
   "cell_type": "code",
   "execution_count": null,
   "id": "9b067ee4-a6bf-4cd6-b0b7-78a53ddb341f",
   "metadata": {},
   "outputs": [],
   "source": [
    "optimizer = optim.SGD(model.parameters(), lr=1e-2,\n",
    "                      momentum=MOMENTUM, nesterov=True)\n",
    "train(n_epochs=EPOCHS, optimizer=optimizer, model=model,\n",
    "      loss_fn=loss_fn, train_loader=train_loader)\n",
    "calculate_accuracy(model, train_loader, test_loader)"
   ]
  },
  {
   "cell_type": "markdown",
   "id": "e61c60d7-8810-4084-91df-dade3529e222",
   "metadata": {},
   "source": [
    "**Adam**"
   ]
  },
  {
   "cell_type": "code",
   "execution_count": null,
   "id": "f7383cde-1617-4812-9d19-69ecec765afd",
   "metadata": {},
   "outputs": [],
   "source": [
    "optimizer = optim.Adam(model.parameters(), lr=1e-2)\n",
    "train(n_epochs=EPOCHS, optimizer=optimizer, model=model,\n",
    "      loss_fn=loss_fn, train_loader=train_loader)\n",
    "calculate_accuracy(model, train_loader, test_loader)"
   ]
  },
  {
   "cell_type": "markdown",
   "id": "1fd1abdb-d7b9-4fff-a48e-19fc63aabbf7",
   "metadata": {},
   "source": [
    "### VGG16, CIFAR10"
   ]
  },
  {
   "cell_type": "code",
   "execution_count": null,
   "id": "ff746d60-8d1c-45cd-8cbc-1766f5394267",
   "metadata": {},
   "outputs": [],
   "source": [
    "model = models.vgg16(num_classes=10, dropout=0.5).to(device=device)\n",
    "train_loader = torch.utils.data.DataLoader(\n",
    "    cifar10_train, batch_size=BATCH_SIZE, shuffle=True)\n",
    "test_loader = torch.utils.data.DataLoader(\n",
    "    cifar10_test, batch_size=BATCH_SIZE, shuffle=True)"
   ]
  },
  {
   "cell_type": "markdown",
   "id": "f45535e7-51ef-4659-ba0b-34a5bdb13d48",
   "metadata": {},
   "source": [
    "**SGD**"
   ]
  },
  {
   "cell_type": "code",
   "execution_count": null,
   "id": "5bc0115f-2e19-46bb-8af0-635b964e0151",
   "metadata": {},
   "outputs": [],
   "source": [
    "optimizer = optim.SGD(model.parameters(), lr=1e-2)\n",
    "train(n_epochs=EPOCHS, optimizer=optimizer, model=model,\n",
    "      loss_fn=loss_fn, train_loader=train_loader)\n",
    "calculate_accuracy(model, train_loader, test_loader)"
   ]
  },
  {
   "cell_type": "markdown",
   "id": "22f782c9-8df9-479a-97b9-cb05c73c8793",
   "metadata": {},
   "source": [
    "**Adadelta**"
   ]
  },
  {
   "cell_type": "code",
   "execution_count": null,
   "id": "256f1be7-370e-4a9c-8f5d-bcfff817f2e4",
   "metadata": {},
   "outputs": [],
   "source": [
    "optimizer = optim.Adadelta(model.parameters(), lr=1e-2)\n",
    "train(n_epochs=EPOCHS, optimizer=optimizer, model=model,\n",
    "      loss_fn=loss_fn, train_loader=train_loader)\n",
    "calculate_accuracy(model, train_loader, test_loader)"
   ]
  },
  {
   "cell_type": "markdown",
   "id": "7a29208f-b130-4382-a400-93c0a1c42b4c",
   "metadata": {},
   "source": [
    "**NAG**"
   ]
  },
  {
   "cell_type": "code",
   "execution_count": null,
   "id": "9c425176-5edb-4fe5-9801-9d1894007041",
   "metadata": {},
   "outputs": [],
   "source": [
    "optimizer = optim.SGD(model.parameters(), lr=1e-2,\n",
    "                      momentum=MOMENTUM, nesterov=True)\n",
    "train(n_epochs=EPOCHS, optimizer=optimizer, model=model,\n",
    "      loss_fn=loss_fn, train_loader=train_loader)\n",
    "calculate_accuracy(model, train_loader, test_loader)"
   ]
  },
  {
   "cell_type": "markdown",
   "id": "f54581de-3d42-4a8c-9d72-99eee83656e3",
   "metadata": {},
   "source": [
    "**Adam**"
   ]
  },
  {
   "cell_type": "code",
   "execution_count": null,
   "id": "0a4a65ba-5fac-4b1b-9520-afade2d3ecc0",
   "metadata": {},
   "outputs": [],
   "source": [
    "optimizer = optim.Adam(model.parameters(), lr=1e-2)\n",
    "train(n_epochs=EPOCHS, optimizer=optimizer, model=model,\n",
    "      loss_fn=loss_fn, train_loader=train_loader)\n",
    "calculate_accuracy(model, train_loader, test_loader)"
   ]
  },
  {
   "cell_type": "markdown",
   "id": "5fabfbb8-85c9-4060-ae4e-66446c603a31",
   "metadata": {},
   "source": [
    "### ResNet34, CIFAR10"
   ]
  },
  {
   "cell_type": "code",
   "execution_count": null,
   "id": "85ff577f-f67b-4c7a-a5dd-bd5ba1d63e59",
   "metadata": {},
   "outputs": [],
   "source": [
    "model = models.resnet34(num_classes=10).to(device)"
   ]
  },
  {
   "cell_type": "markdown",
   "id": "25347c0b-b813-43ba-85c6-731c6dd99b64",
   "metadata": {},
   "source": [
    "**SGD**"
   ]
  },
  {
   "cell_type": "code",
   "execution_count": null,
   "id": "064e761f-57f6-4ed9-974e-943c3bdae352",
   "metadata": {},
   "outputs": [],
   "source": [
    "optimizer = optim.SGD(model.parameters(), lr=1e-2)\n",
    "train(n_epochs=EPOCHS, optimizer=optimizer, model=model,\n",
    "      loss_fn=loss_fn, train_loader=train_loader)\n",
    "calculate_accuracy(model, train_loader, test_loader)"
   ]
  },
  {
   "cell_type": "markdown",
   "id": "d424586a-0381-43f9-a77a-16d7fc777dbf",
   "metadata": {},
   "source": [
    "**Adadelta**"
   ]
  },
  {
   "cell_type": "code",
   "execution_count": null,
   "id": "19e57514-3b22-4137-9b99-c5f4155ee8c4",
   "metadata": {},
   "outputs": [],
   "source": [
    "optimizer = optim.Adadelta(model.parameters(), lr=1e-2)\n",
    "train(n_epochs=EPOCHS, optimizer=optimizer, model=model,\n",
    "      loss_fn=loss_fn, train_loader=train_loader)\n",
    "calculate_accuracy(model, train_loader, test_loader)"
   ]
  },
  {
   "cell_type": "markdown",
   "id": "04cb342a-3bf9-4ff5-9633-670c5bf8bab7",
   "metadata": {},
   "source": [
    "**NAG**"
   ]
  },
  {
   "cell_type": "code",
   "execution_count": null,
   "id": "822e22b8-ad35-4604-99ed-b956e063186a",
   "metadata": {},
   "outputs": [],
   "source": [
    "optimizer = optim.SGD(model.parameters(), lr=1e-2,\n",
    "                      momentum=MOMENTUM, nesterov=True)\n",
    "train(n_epochs=EPOCHS, optimizer=optimizer, model=model,\n",
    "      loss_fn=loss_fn, train_loader=train_loader)\n",
    "calculate_accuracy(model, train_loader, test_loader)"
   ]
  },
  {
   "cell_type": "markdown",
   "id": "38cfbda5-c95f-46ef-a9a2-4b1676ef5623",
   "metadata": {},
   "source": [
    "**Adam**"
   ]
  },
  {
   "cell_type": "code",
   "execution_count": null,
   "id": "22ea5d76-bb7f-442c-8d84-b76e96b1f261",
   "metadata": {},
   "outputs": [],
   "source": [
    "optimizer = optim.Adam(model.parameters(), lr=1e-2)\n",
    "train(n_epochs=EPOCHS, optimizer=optimizer, model=model,\n",
    "      loss_fn=loss_fn, train_loader=train_loader)\n",
    "calculate_accuracy(model, train_loader, test_loader)"
   ]
  }
 ],
 "metadata": {
  "kernelspec": {
   "display_name": "nnhw5",
   "language": "python",
   "name": "nnhw5"
  },
  "language_info": {
   "codemirror_mode": {
    "name": "ipython",
    "version": 3
   },
   "file_extension": ".py",
   "mimetype": "text/x-python",
   "name": "python",
   "nbconvert_exporter": "python",
   "pygments_lexer": "ipython3",
   "version": "3.12.3"
  }
 },
 "nbformat": 4,
 "nbformat_minor": 5
}
